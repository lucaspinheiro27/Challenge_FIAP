{
  "nbformat": 4,
  "nbformat_minor": 0,
  "metadata": {
    "colab": {
      "provenance": []
    },
    "kernelspec": {
      "name": "python3",
      "display_name": "Python 3"
    },
    "language_info": {
      "name": "python"
    }
  },
  "cells": [
    {
      "cell_type": "code",
      "source": [
        "!pip install speechmatics-python"
      ],
      "metadata": {
        "colab": {
          "base_uri": "https://localhost:8080/"
        },
        "id": "M3ysEaTdQWaw",
        "outputId": "0e35d819-0984-44ac-870b-3cceb482c196"
      },
      "execution_count": null,
      "outputs": [
        {
          "output_type": "stream",
          "name": "stdout",
          "text": [
            "Requirement already satisfied: speechmatics-python in /usr/local/lib/python3.10/dist-packages (1.14.10)\n",
            "Requirement already satisfied: websockets>=10 in /usr/local/lib/python3.10/dist-packages (from speechmatics-python) (12.0)\n",
            "Requirement already satisfied: httpx~=0.23 in /usr/local/lib/python3.10/dist-packages (from httpx[http2]~=0.23->speechmatics-python) (0.27.0)\n",
            "Requirement already satisfied: polling2~=0.5 in /usr/local/lib/python3.10/dist-packages (from speechmatics-python) (0.5.0)\n",
            "Requirement already satisfied: toml~=0.10.2 in /usr/local/lib/python3.10/dist-packages (from speechmatics-python) (0.10.2)\n",
            "Requirement already satisfied: tenacity~=8.2.3 in /usr/local/lib/python3.10/dist-packages (from speechmatics-python) (8.2.3)\n",
            "Requirement already satisfied: jiwer in /usr/local/lib/python3.10/dist-packages (from speechmatics-python) (3.0.4)\n",
            "Requirement already satisfied: regex in /usr/local/lib/python3.10/dist-packages (from speechmatics-python) (2024.5.15)\n",
            "Requirement already satisfied: more-itertools in /usr/local/lib/python3.10/dist-packages (from speechmatics-python) (10.1.0)\n",
            "Requirement already satisfied: pyannote.core in /usr/local/lib/python3.10/dist-packages (from speechmatics-python) (5.0.0)\n",
            "Requirement already satisfied: pyannote.database in /usr/local/lib/python3.10/dist-packages (from speechmatics-python) (5.1.0)\n",
            "Requirement already satisfied: docopt in /usr/local/lib/python3.10/dist-packages (from speechmatics-python) (0.6.2)\n",
            "Requirement already satisfied: tabulate>=0.8.9 in /usr/local/lib/python3.10/dist-packages (from speechmatics-python) (0.9.0)\n",
            "Requirement already satisfied: anyio in /usr/local/lib/python3.10/dist-packages (from httpx~=0.23->httpx[http2]~=0.23->speechmatics-python) (3.7.1)\n",
            "Requirement already satisfied: certifi in /usr/local/lib/python3.10/dist-packages (from httpx~=0.23->httpx[http2]~=0.23->speechmatics-python) (2024.7.4)\n",
            "Requirement already satisfied: httpcore==1.* in /usr/local/lib/python3.10/dist-packages (from httpx~=0.23->httpx[http2]~=0.23->speechmatics-python) (1.0.5)\n",
            "Requirement already satisfied: idna in /usr/local/lib/python3.10/dist-packages (from httpx~=0.23->httpx[http2]~=0.23->speechmatics-python) (3.7)\n",
            "Requirement already satisfied: sniffio in /usr/local/lib/python3.10/dist-packages (from httpx~=0.23->httpx[http2]~=0.23->speechmatics-python) (1.3.1)\n",
            "Requirement already satisfied: h11<0.15,>=0.13 in /usr/local/lib/python3.10/dist-packages (from httpcore==1.*->httpx~=0.23->httpx[http2]~=0.23->speechmatics-python) (0.14.0)\n",
            "Requirement already satisfied: h2<5,>=3 in /usr/local/lib/python3.10/dist-packages (from httpx[http2]~=0.23->speechmatics-python) (4.1.0)\n",
            "Requirement already satisfied: click<9.0.0,>=8.1.3 in /usr/local/lib/python3.10/dist-packages (from jiwer->speechmatics-python) (8.1.7)\n",
            "Requirement already satisfied: rapidfuzz<4,>=3 in /usr/local/lib/python3.10/dist-packages (from jiwer->speechmatics-python) (3.9.4)\n",
            "Requirement already satisfied: sortedcontainers>=2.0.4 in /usr/local/lib/python3.10/dist-packages (from pyannote.core->speechmatics-python) (2.4.0)\n",
            "Requirement already satisfied: numpy>=1.10.4 in /usr/local/lib/python3.10/dist-packages (from pyannote.core->speechmatics-python) (1.25.2)\n",
            "Requirement already satisfied: scipy>=1.1 in /usr/local/lib/python3.10/dist-packages (from pyannote.core->speechmatics-python) (1.11.4)\n",
            "Requirement already satisfied: typing-extensions>=3.7.4.1 in /usr/local/lib/python3.10/dist-packages (from pyannote.core->speechmatics-python) (4.12.2)\n",
            "Requirement already satisfied: pyYAML>=3.12 in /usr/local/lib/python3.10/dist-packages (from pyannote.database->speechmatics-python) (6.0.1)\n",
            "Requirement already satisfied: pandas>=0.19 in /usr/local/lib/python3.10/dist-packages (from pyannote.database->speechmatics-python) (2.0.3)\n",
            "Requirement already satisfied: typer>=0.12.1 in /usr/local/lib/python3.10/dist-packages (from pyannote.database->speechmatics-python) (0.12.3)\n",
            "Requirement already satisfied: hyperframe<7,>=6.0 in /usr/local/lib/python3.10/dist-packages (from h2<5,>=3->httpx[http2]~=0.23->speechmatics-python) (6.0.1)\n",
            "Requirement already satisfied: hpack<5,>=4.0 in /usr/local/lib/python3.10/dist-packages (from h2<5,>=3->httpx[http2]~=0.23->speechmatics-python) (4.0.0)\n",
            "Requirement already satisfied: python-dateutil>=2.8.2 in /usr/local/lib/python3.10/dist-packages (from pandas>=0.19->pyannote.database->speechmatics-python) (2.8.2)\n",
            "Requirement already satisfied: pytz>=2020.1 in /usr/local/lib/python3.10/dist-packages (from pandas>=0.19->pyannote.database->speechmatics-python) (2023.4)\n",
            "Requirement already satisfied: tzdata>=2022.1 in /usr/local/lib/python3.10/dist-packages (from pandas>=0.19->pyannote.database->speechmatics-python) (2024.1)\n",
            "Requirement already satisfied: shellingham>=1.3.0 in /usr/local/lib/python3.10/dist-packages (from typer>=0.12.1->pyannote.database->speechmatics-python) (1.5.4)\n",
            "Requirement already satisfied: rich>=10.11.0 in /usr/local/lib/python3.10/dist-packages (from typer>=0.12.1->pyannote.database->speechmatics-python) (13.7.1)\n",
            "Requirement already satisfied: exceptiongroup in /usr/local/lib/python3.10/dist-packages (from anyio->httpx~=0.23->httpx[http2]~=0.23->speechmatics-python) (1.2.2)\n",
            "Requirement already satisfied: six>=1.5 in /usr/local/lib/python3.10/dist-packages (from python-dateutil>=2.8.2->pandas>=0.19->pyannote.database->speechmatics-python) (1.16.0)\n",
            "Requirement already satisfied: markdown-it-py>=2.2.0 in /usr/local/lib/python3.10/dist-packages (from rich>=10.11.0->typer>=0.12.1->pyannote.database->speechmatics-python) (3.0.0)\n",
            "Requirement already satisfied: pygments<3.0.0,>=2.13.0 in /usr/local/lib/python3.10/dist-packages (from rich>=10.11.0->typer>=0.12.1->pyannote.database->speechmatics-python) (2.16.1)\n",
            "Requirement already satisfied: mdurl~=0.1 in /usr/local/lib/python3.10/dist-packages (from markdown-it-py>=2.2.0->rich>=10.11.0->typer>=0.12.1->pyannote.database->speechmatics-python) (0.1.2)\n"
          ]
        }
      ]
    },
    {
      "cell_type": "code",
      "source": [
        "!pip uninstall tenacity -y"
      ],
      "metadata": {
        "colab": {
          "base_uri": "https://localhost:8080/"
        },
        "id": "WD9SMjWTcoi6",
        "outputId": "20c8c320-aed0-4e1a-c7b1-518fc412e379"
      },
      "execution_count": null,
      "outputs": [
        {
          "output_type": "stream",
          "name": "stdout",
          "text": [
            "Found existing installation: tenacity 8.2.3\n",
            "Uninstalling tenacity-8.2.3:\n",
            "  Successfully uninstalled tenacity-8.2.3\n"
          ]
        }
      ]
    },
    {
      "cell_type": "code",
      "source": [
        "!pip install tenacity==8.2.3"
      ],
      "metadata": {
        "colab": {
          "base_uri": "https://localhost:8080/"
        },
        "id": "IoLPZliUYIFD",
        "outputId": "8998384d-1437-4e7f-a49b-3326a7cea55c"
      },
      "execution_count": null,
      "outputs": [
        {
          "output_type": "stream",
          "name": "stdout",
          "text": [
            "Requirement already satisfied: tenacity==8.2.3 in /usr/local/lib/python3.10/dist-packages (8.2.3)\n"
          ]
        }
      ]
    },
    {
      "cell_type": "code",
      "source": [
        "from speechmatics.models import ConnectionSettings\n",
        "from speechmatics.batch_client import BatchClient\n",
        "from httpx import HTTPStatusError\n",
        "\n",
        "AUTH_TOKEN = \"fdUba65Q7qD3oxEMKEu5qvTFRxtRTxGJ\"\n",
        "PATH_TO_FILE = \"/content/2874774.wav\"\n",
        "LANGUAGE = \"pt\"\n",
        "\n",
        "settings = ConnectionSettings(\n",
        "    url=\"https://asr.api.speechmatics.com/v2\",\n",
        "    auth_token=AUTH_TOKEN,\n",
        ")\n",
        "\n",
        "# Define transcription parameters\n",
        "conf = {\n",
        "    \"type\": \"transcription\",\n",
        "    \"transcription_config\": {\n",
        "        \"language\": LANGUAGE,\n",
        "        # Find out more about entity detection here:\n",
        "        # https://docs.speechmatics.com/features/entities#enable-entity-metadata\n",
        "        \"enable_entities\": True,\n",
        "        \"operating_point\": \"enhanced\",\n",
        "    },\n",
        "}\n",
        "\n",
        "# Open the client using a context manager\n",
        "with BatchClient(settings) as client:\n",
        "    try:\n",
        "        job_id = client.submit_job(\n",
        "            audio=PATH_TO_FILE,\n",
        "            transcription_config=conf,\n",
        "        )\n",
        "        print(f\"job {job_id} submitted successfully, waiting for transcript\")\n",
        "\n",
        "        # Note that in production, you should set up notifications instead of polling.\n",
        "        # Notifications are described here: https://docs.speechmatics.com/features-other/notifications\n",
        "        transcript = client.wait_for_completion(job_id, transcription_format=\"txt\")\n",
        "        # To see the full output, try setting transcription_format=\"json-v2\".\n",
        "        print(transcript)\n",
        "    except HTTPStatusError:\n",
        "        print(\"Invalid API key - Check your AUTH_TOKEN at the top of the code!\")\n"
      ],
      "metadata": {
        "colab": {
          "base_uri": "https://localhost:8080/"
        },
        "id": "an1jEsZncBLz",
        "outputId": "b75452b1-63a6-46df-a92f-43347d16154b"
      },
      "execution_count": null,
      "outputs": [
        {
          "output_type": "stream",
          "name": "stdout",
          "text": [
            "job jjhwnwi5i6 submitted successfully, waiting for transcript\n",
            "Escandinávia. Natália, bom dia! Bom dia Natália Beatriz Falando Gostaria de falar com a senhora Silvânia do TI. Seria ainda responsável pelo sistema? Bom momento. Obrigada. Silvânia Bom dia. A senhora Silvânia Beatriz da Tato falando Tudo bem? Bom dia, Beatriz! Tudo bom em você? Estou bem, Obrigada. Senhora Silvana, a senhora seria a responsável pelo sistema na empresa Escandinávia Veículos, né? Sim, correto. Tá, meu contato é bem rápido. Eu falo da parte da experiência do cliente. Eu gostaria de saber somente como que tá a experiência, acompanhar um pouco a percepção que vocês estão tendo. Esse acompanhamento é feito pelo método de NPS, onde o senhor avalia de 0A10A marca total Totvs em alguns pontos específicos. Dois minutinhos, tudo bem. A senhora seria a responsável pela UTI, né? Sim, uma das. Tá. Eu vou só confirmar o CNPJ porque vocês são empresas coligadas, né? Então uma rede, o CNPJ que eu tô falando é O670411116000 contra 21. Ok? Isso o e-mail da senhora continua Silvânia. Ponto info arroba Mazza TAF ponto com ponto br. Isso. Então essa filial que você falou aí ela é de Uberlândia, Então a gente tem depois o CNPJ final um 17 ou quatro, 65, 45, 40. Isso eu tô vendo aqui. E a senhora corresponde por pelos três, entendeu? Tá bom, então é por esses quatro, tá? Eu vou iniciar. Então tá, senhora Silvana. Numa escala de 0 a 10, qual a probabilidade da senhora recomendar a Totus a um amigo? Um colega hoje? Dez Teria algum comentário? Algum ponto que a senhora gostaria de anexar sobre a nota? Não. Então, para a gente aprofundar um pouco mais na melhoria, agora vou falar alguns pontos específicos e peço que a senhora avalie também somente de 0 a 10, tá? Caso tenha contato falando do suporte técnico, como a senhora avalia agilidade nos processos do suporte? Você fala suporte? São os chamados que a gente abre aí. Isso. Oito. Tá falando em relação ao atendimento do agente do suporte? Os analistas que lidam com vocês também em relação ao atendimento do comercial referente ao executivo de vendas. Nove. Os custos e valores dos produtos contratados. Oito Atendimento do administrativo financeiro referente a boletos e negociações. Dez. A satisfação com a implantação do software. A senhora participou da implantação? Sim, participei. Como foi para a senhora? Oito Tá, hoje o sistema. Ele está entregando o benefício que a empresa precisa entregar totalmente, parcialmente ou não entrega. Entrega? Entrega. Qual que você falou? Entrega totalmente? Parcialmente ou não entregou? A Parcialmente. Tá. Como foi a experiência da senhora com a atualização do software? Vocês já atualizaram? De 0 a 10, Como a senhora avalia? Qual? Atualização A diversão pode ser a mais recente. Pode ser diversão ou de releases. A experiência que o sistema foi nove foi nove. Tudo certo? Tá pra finalizar, então parece que a senhora vale também de 0 a 10. O atendimento realizado pela Postos Rio Preto, a unidade responsável por vocês. O atendimento é dez, em especial o analista Marcelo Pantaleão. Tá bom. Tem algum comentário final que a senhora gostaria de deixar? Não, não, Nem a esse acompanhamento ele ocorre a cada seis meses. Tá passando o período. Retornamos o contato. Como vocês são uma empresa de rede, é capaz que vocês recebam esses contatos. Mas aí a senhora não vai poder responder para a gente Mais teria algum outro gestor também que possa responder para a gente? Nos outros CNPJ tem, tem, né? Tá bom, então será. Silvânia Passando o período de seis meses a um ano a gente retorna o contato. Tá bom nesse CNPJ? A senhora teria alguma empresa que gostaria de indicar? Não, não, não. Tá bom Então senhora Silvana, eu agradeço. A senhora tem um ótimo dia, bom trabalho, Tchau, tchau, tchau, tchau, Obrigada.\n"
          ]
        }
      ]
    },
    {
      "cell_type": "code",
      "source": [
        "transcript"
      ],
      "metadata": {
        "id": "ohqhQMYrRo5I",
        "outputId": "13fad74a-0a4b-4064-de12-48e345cfc5d9",
        "colab": {
          "base_uri": "https://localhost:8080/",
          "height": 446
        }
      },
      "execution_count": null,
      "outputs": [
        {
          "output_type": "execute_result",
          "data": {
            "text/plain": [
              "'Escandinávia. Natália, bom dia! Bom dia Natália Beatriz Falando Gostaria de falar com a senhora Silvânia do TI. Seria ainda responsável pelo sistema? Bom momento. Obrigada. Silvânia Bom dia. A senhora Silvânia Beatriz da Tato falando Tudo bem? Bom dia, Beatriz! Tudo bom em você? Estou bem, Obrigada. Senhora Silvana, a senhora seria a responsável pelo sistema na empresa Escandinávia Veículos, né? Sim, correto. Tá, meu contato é bem rápido. Eu falo da parte da experiência do cliente. Eu gostaria de saber somente como que tá a experiência, acompanhar um pouco a percepção que vocês estão tendo. Esse acompanhamento é feito pelo método de NPS, onde o senhor avalia de 0A10A marca total Totvs em alguns pontos específicos. Dois minutinhos, tudo bem. A senhora seria a responsável pela UTI, né? Sim, uma das. Tá. Eu vou só confirmar o CNPJ porque vocês são empresas coligadas, né? Então uma rede, o CNPJ que eu tô falando é O670411116000 contra 21. Ok? Isso o e-mail da senhora continua Silvânia. Ponto info arroba Mazza TAF ponto com ponto br. Isso. Então essa filial que você falou aí ela é de Uberlândia, Então a gente tem depois o CNPJ final um 17 ou quatro, 65, 45, 40. Isso eu tô vendo aqui. E a senhora corresponde por pelos três, entendeu? Tá bom, então é por esses quatro, tá? Eu vou iniciar. Então tá, senhora Silvana. Numa escala de 0 a 10, qual a probabilidade da senhora recomendar a Totus a um amigo? Um colega hoje? Dez Teria algum comentário? Algum ponto que a senhora gostaria de anexar sobre a nota? Não. Então, para a gente aprofundar um pouco mais na melhoria, agora vou falar alguns pontos específicos e peço que a senhora avalie também somente de 0 a 10, tá? Caso tenha contato falando do suporte técnico, como a senhora avalia agilidade nos processos do suporte? Você fala suporte? São os chamados que a gente abre aí. Isso. Oito. Tá falando em relação ao atendimento do agente do suporte? Os analistas que lidam com vocês também em relação ao atendimento do comercial referente ao executivo de vendas. Nove. Os custos e valores dos produtos contratados. Oito Atendimento do administrativo financeiro referente a boletos e negociações. Dez. A satisfação com a implantação do software. A senhora participou da implantação? Sim, participei. Como foi para a senhora? Oito Tá, hoje o sistema. Ele está entregando o benefício que a empresa precisa entregar totalmente, parcialmente ou não entrega. Entrega? Entrega. Qual que você falou? Entrega totalmente? Parcialmente ou não entregou? A Parcialmente. Tá. Como foi a experiência da senhora com a atualização do software? Vocês já atualizaram? De 0 a 10, Como a senhora avalia? Qual? Atualização A diversão pode ser a mais recente. Pode ser diversão ou de releases. A experiência que o sistema foi nove foi nove. Tudo certo? Tá pra finalizar, então parece que a senhora vale também de 0 a 10. O atendimento realizado pela Postos Rio Preto, a unidade responsável por vocês. O atendimento é dez, em especial o analista Marcelo Pantaleão. Tá bom. Tem algum comentário final que a senhora gostaria de deixar? Não, não, Nem a esse acompanhamento ele ocorre a cada seis meses. Tá passando o período. Retornamos o contato. Como vocês são uma empresa de rede, é capaz que vocês recebam esses contatos. Mas aí a senhora não vai poder responder para a gente Mais teria algum outro gestor também que possa responder para a gente? Nos outros CNPJ tem, tem, né? Tá bom, então será. Silvânia Passando o período de seis meses a um ano a gente retorna o contato. Tá bom nesse CNPJ? A senhora teria alguma empresa que gostaria de indicar? Não, não, não. Tá bom Então senhora Silvana, eu agradeço. A senhora tem um ótimo dia, bom trabalho, Tchau, tchau, tchau, tchau, Obrigada.'"
            ],
            "application/vnd.google.colaboratory.intrinsic+json": {
              "type": "string"
            }
          },
          "metadata": {},
          "execution_count": 4
        }
      ]
    },
    {
      "cell_type": "code",
      "source": [],
      "metadata": {
        "id": "ESv0kfBpfKRi"
      },
      "execution_count": null,
      "outputs": []
    }
  ]
}