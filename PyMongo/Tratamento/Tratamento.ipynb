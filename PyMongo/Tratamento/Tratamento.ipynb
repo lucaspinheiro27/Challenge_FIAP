{
  "nbformat": 4,
  "nbformat_minor": 0,
  "metadata": {
    "colab": {
      "provenance": []
    },
    "kernelspec": {
      "name": "python3",
      "display_name": "Python 3"
    },
    "language_info": {
      "name": "python"
    }
  },
  "cells": [
    {
      "cell_type": "markdown",
      "source": [
        "# Instalando bibliotecas necessárias"
      ],
      "metadata": {
        "id": "RkyXnnq2L-UC"
      }
    },
    {
      "cell_type": "code",
      "execution_count": 3,
      "metadata": {
        "colab": {
          "base_uri": "https://localhost:8080/"
        },
        "id": "OD6ZHuo4HEp4",
        "outputId": "224e8272-e38a-492d-e406-4329a6879e7b"
      },
      "outputs": [
        {
          "output_type": "stream",
          "name": "stdout",
          "text": [
            "\u001b[?25l   \u001b[90m━━━━━━━━━━━━━━━━━━━━━━━━━━━━━━━━━━━━━━━━\u001b[0m \u001b[32m0.0/1.2 MB\u001b[0m \u001b[31m?\u001b[0m eta \u001b[36m-:--:--\u001b[0m\r\u001b[2K   \u001b[91m━━━━━━━━━━━━━━━━━━━━━━━━━━━━━━━━━━━━━━━\u001b[0m\u001b[91m╸\u001b[0m \u001b[32m1.2/1.2 MB\u001b[0m \u001b[31m45.2 MB/s\u001b[0m eta \u001b[36m0:00:01\u001b[0m\r\u001b[2K   \u001b[90m━━━━━━━━━━━━━━━━━━━━━━━━━━━━━━━━━━━━━━━━\u001b[0m \u001b[32m1.2/1.2 MB\u001b[0m \u001b[31m26.6 MB/s\u001b[0m eta \u001b[36m0:00:00\u001b[0m\n",
            "\u001b[?25h\u001b[?25l   \u001b[90m━━━━━━━━━━━━━━━━━━━━━━━━━━━━━━━━━━━━━━━━\u001b[0m \u001b[32m0.0/307.7 kB\u001b[0m \u001b[31m?\u001b[0m eta \u001b[36m-:--:--\u001b[0m\r\u001b[2K   \u001b[90m━━━━━━━━━━━━━━━━━━━━━━━━━━━━━━━━━━━━━━━━\u001b[0m \u001b[32m307.7/307.7 kB\u001b[0m \u001b[31m22.7 MB/s\u001b[0m eta \u001b[36m0:00:00\u001b[0m\n",
            "\u001b[?25h"
          ]
        }
      ],
      "source": [
        "!pip3 install -r requirements -q"
      ]
    },
    {
      "cell_type": "markdown",
      "source": [
        "# Importando bibliotecas necessárias"
      ],
      "metadata": {
        "id": "C5TnEU60MCzS"
      }
    },
    {
      "cell_type": "code",
      "source": [
        "from pymongo import MongoClient\n",
        "import os\n",
        "from dotenv import load_dotenv, dotenv_values\n",
        "import pandas as pd\n",
        "import nltk\n",
        "nltk.download('punkt')"
      ],
      "metadata": {
        "colab": {
          "base_uri": "https://localhost:8080/"
        },
        "id": "ZUiVbwesIJpo",
        "outputId": "a5e27eb9-7a0a-404e-a955-473803bcfd0a"
      },
      "execution_count": 23,
      "outputs": [
        {
          "output_type": "stream",
          "name": "stderr",
          "text": [
            "[nltk_data] Downloading package punkt to /root/nltk_data...\n",
            "[nltk_data]   Unzipping tokenizers/punkt.zip.\n"
          ]
        },
        {
          "output_type": "execute_result",
          "data": {
            "text/plain": [
              "True"
            ]
          },
          "metadata": {},
          "execution_count": 23
        }
      ]
    },
    {
      "cell_type": "markdown",
      "source": [
        "* Carregando ambiente virtual"
      ],
      "metadata": {
        "id": "_I1xBOciMIjI"
      }
    },
    {
      "cell_type": "code",
      "source": [
        "load_dotenv()\n",
        "# print(os.getenv(\"conn_str\"))"
      ],
      "metadata": {
        "colab": {
          "base_uri": "https://localhost:8080/"
        },
        "id": "z-JET5qkILyy",
        "outputId": "d448e394-7b30-4f07-9614-576b03e6c6f6"
      },
      "execution_count": 6,
      "outputs": [
        {
          "output_type": "execute_result",
          "data": {
            "text/plain": [
              "True"
            ]
          },
          "metadata": {},
          "execution_count": 6
        }
      ]
    },
    {
      "cell_type": "markdown",
      "source": [
        "* Conexão ao banco de dados"
      ],
      "metadata": {
        "id": "9jiVHWrcMO0E"
      }
    },
    {
      "cell_type": "code",
      "source": [
        "conn_str = os.getenv(\"conn_str\")\n",
        "\n",
        "try:\n",
        "    client = MongoClient(conn_str)\n",
        "    print(\"Connected to MongoDB successfully!\")\n",
        "except Exception as e:\n",
        "    print(f\"Error: {e}\")"
      ],
      "metadata": {
        "colab": {
          "base_uri": "https://localhost:8080/"
        },
        "id": "PJ2NNBupIOF3",
        "outputId": "2d6b8559-421d-4f93-e640-3dd76fcb98f7"
      },
      "execution_count": 7,
      "outputs": [
        {
          "output_type": "stream",
          "name": "stdout",
          "text": [
            "Connected to MongoDB successfully!\n"
          ]
        }
      ]
    },
    {
      "cell_type": "code",
      "source": [
        "db = client[\"Cluster\"]\n",
        "collection = db[\"Audios_gold\"]\n",
        "\n",
        "db.list_collection_names()"
      ],
      "metadata": {
        "colab": {
          "base_uri": "https://localhost:8080/"
        },
        "id": "eVlg4QoaIYXD",
        "outputId": "2cc91037-ba82-44e2-8b1f-dea13cd26948"
      },
      "execution_count": 8,
      "outputs": [
        {
          "output_type": "execute_result",
          "data": {
            "text/plain": [
              "['Audios_gold', 'Audios_embeddings']"
            ]
          },
          "metadata": {},
          "execution_count": 8
        }
      ]
    },
    {
      "cell_type": "markdown",
      "source": [
        "# Extração de transcrições e conversão para csv"
      ],
      "metadata": {
        "id": "EyTXw279MS1Z"
      }
    },
    {
      "cell_type": "code",
      "source": [
        "transcricao = collection.find({}, {\"transcription\": 1, \"_id\": 0, \"file_name\": 1})\n",
        "\n",
        "transcricoes = list(transcricao)\n",
        "\n",
        "df = pd.DataFrame(transcricoes)\n",
        "\n",
        "df.to_csv('transcricoes.csv', index=False)"
      ],
      "metadata": {
        "id": "m9biNF3UIb4w"
      },
      "execution_count": 10,
      "outputs": []
    },
    {
      "cell_type": "markdown",
      "source": [
        "* Concatenação de Dataframe"
      ],
      "metadata": {
        "id": "NNRWs44GMdKJ"
      }
    },
    {
      "cell_type": "code",
      "source": [
        "df = pd.read_csv('/content/transcricoes.csv')\n",
        "df2 = pd.read_csv('/content/Clientes_Totvs.csv', sep=';', encoding='latin-1')\n",
        "df2.drop(index=[80, 81, 82], inplace=True)\n",
        "df3 = pd.concat([df, df2], axis=1)\n",
        "df3"
      ],
      "metadata": {
        "colab": {
          "base_uri": "https://localhost:8080/",
          "height": 1000
        },
        "id": "MQmlsTZrIjh4",
        "outputId": "ade37105-d527-4ab0-9ff2-daf1374782fd"
      },
      "execution_count": 13,
      "outputs": [
        {
          "output_type": "execute_result",
          "data": {
            "text/plain": [
              "      file_name                                      transcription Atendeu?  \\\n",
              "0   2967602.wav  Alô, boa tarde. Boa tarde. Fala com o senhor C...      Sim   \n",
              "1   2967344.wav  Plastico Lojas BR. Boa tarde! Boa tarde. Meu n...      Não   \n",
              "2   2967631.wav  Eu tenho o Bourbon. Lorena, boa tarde. Boa tar...      Sim   \n",
              "3   2965935.wav  Alô, Alô, Bom dia. Leandro Eu novamente. Tudo ...      Sim   \n",
              "4   2965979.wav  Edson Paulista. João Paulo. Bom dia. Bom dia! ...      Sim   \n",
              "..          ...                                                ...      ...   \n",
              "75  2967729.wav  Boa tarde! Boa tarde Lilia da empresa TOTVS eu...      Não   \n",
              "76  2966177.wav  Alô, Carneiro, bom dia! Bom dia Beatriz Da fot...      Não   \n",
              "77  2964530.wav  Alô, Alô, Alô, Boa tarde! Boa tarde, Azevedo. ...      Sim   \n",
              "78  2966819.wav  Hotel Ibis em São Carlos. Silvana, bom dia! Bo...      Sim   \n",
              "79  2964235.wav  Galli. Boa tarde. Boa tarde. Meu nome é Vivian...      Sim   \n",
              "\n",
              "                            Empresa Atendente Recomendação TOTVS  \\\n",
              "0                    CGC atacadista   Beatriz     Não Disponível   \n",
              "1                 Plastico Lojas BR   Viviane     Não Disponível   \n",
              "2     Rio Hotel by Bourbon Maringá      Lilia                6.0   \n",
              "3                            Conab      Lilia                9.0   \n",
              "4   Edifício Paulista Capital Plaza    Lilia                10.0   \n",
              "..                              ...       ...                ...   \n",
              "75           Hotel Casa da Montanha     Lilia     Não Disponível   \n",
              "76                   Não Disponível   Beatriz     Não Disponível   \n",
              "77                   Não Disponível   Beatriz               10.0   \n",
              "78                 Atlântica Hotels     Lilia                8.0   \n",
              "79                   Não Disponível  Viviane                 8.0   \n",
              "\n",
              "          Suporte  Atendimento agente  \\\n",
              "0              0.0                8.0   \n",
              "1   Não Disponível     Não Disponível   \n",
              "2              7.0                8.0   \n",
              "3              6.0     Não Disponível   \n",
              "4              9.0               10.0   \n",
              "..             ...                ...   \n",
              "75  Não Disponível     Não Disponível   \n",
              "76  Não Disponível     Não Disponível   \n",
              "77             9.0                9.0   \n",
              "78             9.0                9.0   \n",
              "79             9.0                9.0   \n",
              "\n",
              "   Executivo de Vendas/ Administrativo e financeiro  \\\n",
              "0                                               8.0   \n",
              "1                                    Não Disponível   \n",
              "2                                    Não Disponível   \n",
              "3                                               7.0   \n",
              "4                                    Não Disponível   \n",
              "..                                              ...   \n",
              "75                                   Não Disponível   \n",
              "76                                   Não Disponível   \n",
              "77                                              9.0   \n",
              "78                                              9.0   \n",
              "79                                              9.0   \n",
              "\n",
              "   Custos e valores do serviço contratado Implantação de software  \\\n",
              "0                                     7.0                     8.0   \n",
              "1                          Não Disponível          Não Disponível   \n",
              "2                          Não Disponível                     9.0   \n",
              "3                          Não Disponível          Não Disponível   \n",
              "4                                     9.0                     9.0   \n",
              "..                                    ...                     ...   \n",
              "75                         Não Disponível          Não Disponível   \n",
              "76                         Não Disponível          Não Disponível   \n",
              "77                                    9.0                     9.0   \n",
              "78                                    9.0          Não Disponível   \n",
              "79                                    9.0          Não Disponível   \n",
              "\n",
              "   Entrega de serviço Atualização de software    Nota Unidade  \n",
              "0        Parcialmente                     7.0             7.0  \n",
              "1      Não Disponível          Não Disponível  Não Disponível  \n",
              "2        Parcialmente                     6.0             7.0  \n",
              "3               Total                     5.0             5.0  \n",
              "4               Total                    10.0            10.0  \n",
              "..                ...                     ...             ...  \n",
              "75     Não Disponível          Não Disponível  Não Disponível  \n",
              "76     Não Disponível          Não Disponível  Não Disponível  \n",
              "77              Total                     8.0             8.0  \n",
              "78       Parcialmente                     7.0             8.0  \n",
              "79       Parcialmente                     7.0             8.0  \n",
              "\n",
              "[80 rows x 14 columns]"
            ],
            "text/html": [
              "\n",
              "  <div id=\"df-585cacca-37dd-4360-be04-02bc64e103f6\" class=\"colab-df-container\">\n",
              "    <div>\n",
              "<style scoped>\n",
              "    .dataframe tbody tr th:only-of-type {\n",
              "        vertical-align: middle;\n",
              "    }\n",
              "\n",
              "    .dataframe tbody tr th {\n",
              "        vertical-align: top;\n",
              "    }\n",
              "\n",
              "    .dataframe thead th {\n",
              "        text-align: right;\n",
              "    }\n",
              "</style>\n",
              "<table border=\"1\" class=\"dataframe\">\n",
              "  <thead>\n",
              "    <tr style=\"text-align: right;\">\n",
              "      <th></th>\n",
              "      <th>file_name</th>\n",
              "      <th>transcription</th>\n",
              "      <th>Atendeu?</th>\n",
              "      <th>Empresa</th>\n",
              "      <th>Atendente</th>\n",
              "      <th>Recomendação TOTVS</th>\n",
              "      <th>Suporte</th>\n",
              "      <th>Atendimento agente</th>\n",
              "      <th>Executivo de Vendas/ Administrativo e financeiro</th>\n",
              "      <th>Custos e valores do serviço contratado</th>\n",
              "      <th>Implantação de software</th>\n",
              "      <th>Entrega de serviço</th>\n",
              "      <th>Atualização de software</th>\n",
              "      <th>Nota Unidade</th>\n",
              "    </tr>\n",
              "  </thead>\n",
              "  <tbody>\n",
              "    <tr>\n",
              "      <th>0</th>\n",
              "      <td>2967602.wav</td>\n",
              "      <td>Alô, boa tarde. Boa tarde. Fala com o senhor C...</td>\n",
              "      <td>Sim</td>\n",
              "      <td>CGC atacadista</td>\n",
              "      <td>Beatriz</td>\n",
              "      <td>Não Disponível</td>\n",
              "      <td>0.0</td>\n",
              "      <td>8.0</td>\n",
              "      <td>8.0</td>\n",
              "      <td>7.0</td>\n",
              "      <td>8.0</td>\n",
              "      <td>Parcialmente</td>\n",
              "      <td>7.0</td>\n",
              "      <td>7.0</td>\n",
              "    </tr>\n",
              "    <tr>\n",
              "      <th>1</th>\n",
              "      <td>2967344.wav</td>\n",
              "      <td>Plastico Lojas BR. Boa tarde! Boa tarde. Meu n...</td>\n",
              "      <td>Não</td>\n",
              "      <td>Plastico Lojas BR</td>\n",
              "      <td>Viviane</td>\n",
              "      <td>Não Disponível</td>\n",
              "      <td>Não Disponível</td>\n",
              "      <td>Não Disponível</td>\n",
              "      <td>Não Disponível</td>\n",
              "      <td>Não Disponível</td>\n",
              "      <td>Não Disponível</td>\n",
              "      <td>Não Disponível</td>\n",
              "      <td>Não Disponível</td>\n",
              "      <td>Não Disponível</td>\n",
              "    </tr>\n",
              "    <tr>\n",
              "      <th>2</th>\n",
              "      <td>2967631.wav</td>\n",
              "      <td>Eu tenho o Bourbon. Lorena, boa tarde. Boa tar...</td>\n",
              "      <td>Sim</td>\n",
              "      <td>Rio Hotel by Bourbon Maringá</td>\n",
              "      <td>Lilia</td>\n",
              "      <td>6.0</td>\n",
              "      <td>7.0</td>\n",
              "      <td>8.0</td>\n",
              "      <td>Não Disponível</td>\n",
              "      <td>Não Disponível</td>\n",
              "      <td>9.0</td>\n",
              "      <td>Parcialmente</td>\n",
              "      <td>6.0</td>\n",
              "      <td>7.0</td>\n",
              "    </tr>\n",
              "    <tr>\n",
              "      <th>3</th>\n",
              "      <td>2965935.wav</td>\n",
              "      <td>Alô, Alô, Bom dia. Leandro Eu novamente. Tudo ...</td>\n",
              "      <td>Sim</td>\n",
              "      <td>Conab</td>\n",
              "      <td>Lilia</td>\n",
              "      <td>9.0</td>\n",
              "      <td>6.0</td>\n",
              "      <td>Não Disponível</td>\n",
              "      <td>7.0</td>\n",
              "      <td>Não Disponível</td>\n",
              "      <td>Não Disponível</td>\n",
              "      <td>Total</td>\n",
              "      <td>5.0</td>\n",
              "      <td>5.0</td>\n",
              "    </tr>\n",
              "    <tr>\n",
              "      <th>4</th>\n",
              "      <td>2965979.wav</td>\n",
              "      <td>Edson Paulista. João Paulo. Bom dia. Bom dia! ...</td>\n",
              "      <td>Sim</td>\n",
              "      <td>Edifício Paulista Capital Plaza</td>\n",
              "      <td>Lilia</td>\n",
              "      <td>10.0</td>\n",
              "      <td>9.0</td>\n",
              "      <td>10.0</td>\n",
              "      <td>Não Disponível</td>\n",
              "      <td>9.0</td>\n",
              "      <td>9.0</td>\n",
              "      <td>Total</td>\n",
              "      <td>10.0</td>\n",
              "      <td>10.0</td>\n",
              "    </tr>\n",
              "    <tr>\n",
              "      <th>...</th>\n",
              "      <td>...</td>\n",
              "      <td>...</td>\n",
              "      <td>...</td>\n",
              "      <td>...</td>\n",
              "      <td>...</td>\n",
              "      <td>...</td>\n",
              "      <td>...</td>\n",
              "      <td>...</td>\n",
              "      <td>...</td>\n",
              "      <td>...</td>\n",
              "      <td>...</td>\n",
              "      <td>...</td>\n",
              "      <td>...</td>\n",
              "      <td>...</td>\n",
              "    </tr>\n",
              "    <tr>\n",
              "      <th>75</th>\n",
              "      <td>2967729.wav</td>\n",
              "      <td>Boa tarde! Boa tarde Lilia da empresa TOTVS eu...</td>\n",
              "      <td>Não</td>\n",
              "      <td>Hotel Casa da Montanha</td>\n",
              "      <td>Lilia</td>\n",
              "      <td>Não Disponível</td>\n",
              "      <td>Não Disponível</td>\n",
              "      <td>Não Disponível</td>\n",
              "      <td>Não Disponível</td>\n",
              "      <td>Não Disponível</td>\n",
              "      <td>Não Disponível</td>\n",
              "      <td>Não Disponível</td>\n",
              "      <td>Não Disponível</td>\n",
              "      <td>Não Disponível</td>\n",
              "    </tr>\n",
              "    <tr>\n",
              "      <th>76</th>\n",
              "      <td>2966177.wav</td>\n",
              "      <td>Alô, Carneiro, bom dia! Bom dia Beatriz Da fot...</td>\n",
              "      <td>Não</td>\n",
              "      <td>Não Disponível</td>\n",
              "      <td>Beatriz</td>\n",
              "      <td>Não Disponível</td>\n",
              "      <td>Não Disponível</td>\n",
              "      <td>Não Disponível</td>\n",
              "      <td>Não Disponível</td>\n",
              "      <td>Não Disponível</td>\n",
              "      <td>Não Disponível</td>\n",
              "      <td>Não Disponível</td>\n",
              "      <td>Não Disponível</td>\n",
              "      <td>Não Disponível</td>\n",
              "    </tr>\n",
              "    <tr>\n",
              "      <th>77</th>\n",
              "      <td>2964530.wav</td>\n",
              "      <td>Alô, Alô, Alô, Boa tarde! Boa tarde, Azevedo. ...</td>\n",
              "      <td>Sim</td>\n",
              "      <td>Não Disponível</td>\n",
              "      <td>Beatriz</td>\n",
              "      <td>10.0</td>\n",
              "      <td>9.0</td>\n",
              "      <td>9.0</td>\n",
              "      <td>9.0</td>\n",
              "      <td>9.0</td>\n",
              "      <td>9.0</td>\n",
              "      <td>Total</td>\n",
              "      <td>8.0</td>\n",
              "      <td>8.0</td>\n",
              "    </tr>\n",
              "    <tr>\n",
              "      <th>78</th>\n",
              "      <td>2966819.wav</td>\n",
              "      <td>Hotel Ibis em São Carlos. Silvana, bom dia! Bo...</td>\n",
              "      <td>Sim</td>\n",
              "      <td>Atlântica Hotels</td>\n",
              "      <td>Lilia</td>\n",
              "      <td>8.0</td>\n",
              "      <td>9.0</td>\n",
              "      <td>9.0</td>\n",
              "      <td>9.0</td>\n",
              "      <td>9.0</td>\n",
              "      <td>Não Disponível</td>\n",
              "      <td>Parcialmente</td>\n",
              "      <td>7.0</td>\n",
              "      <td>8.0</td>\n",
              "    </tr>\n",
              "    <tr>\n",
              "      <th>79</th>\n",
              "      <td>2964235.wav</td>\n",
              "      <td>Galli. Boa tarde. Boa tarde. Meu nome é Vivian...</td>\n",
              "      <td>Sim</td>\n",
              "      <td>Não Disponível</td>\n",
              "      <td>Viviane</td>\n",
              "      <td>8.0</td>\n",
              "      <td>9.0</td>\n",
              "      <td>9.0</td>\n",
              "      <td>9.0</td>\n",
              "      <td>9.0</td>\n",
              "      <td>Não Disponível</td>\n",
              "      <td>Parcialmente</td>\n",
              "      <td>7.0</td>\n",
              "      <td>8.0</td>\n",
              "    </tr>\n",
              "  </tbody>\n",
              "</table>\n",
              "<p>80 rows × 14 columns</p>\n",
              "</div>\n",
              "    <div class=\"colab-df-buttons\">\n",
              "\n",
              "  <div class=\"colab-df-container\">\n",
              "    <button class=\"colab-df-convert\" onclick=\"convertToInteractive('df-585cacca-37dd-4360-be04-02bc64e103f6')\"\n",
              "            title=\"Convert this dataframe to an interactive table.\"\n",
              "            style=\"display:none;\">\n",
              "\n",
              "  <svg xmlns=\"http://www.w3.org/2000/svg\" height=\"24px\" viewBox=\"0 -960 960 960\">\n",
              "    <path d=\"M120-120v-720h720v720H120Zm60-500h600v-160H180v160Zm220 220h160v-160H400v160Zm0 220h160v-160H400v160ZM180-400h160v-160H180v160Zm440 0h160v-160H620v160ZM180-180h160v-160H180v160Zm440 0h160v-160H620v160Z\"/>\n",
              "  </svg>\n",
              "    </button>\n",
              "\n",
              "  <style>\n",
              "    .colab-df-container {\n",
              "      display:flex;\n",
              "      gap: 12px;\n",
              "    }\n",
              "\n",
              "    .colab-df-convert {\n",
              "      background-color: #E8F0FE;\n",
              "      border: none;\n",
              "      border-radius: 50%;\n",
              "      cursor: pointer;\n",
              "      display: none;\n",
              "      fill: #1967D2;\n",
              "      height: 32px;\n",
              "      padding: 0 0 0 0;\n",
              "      width: 32px;\n",
              "    }\n",
              "\n",
              "    .colab-df-convert:hover {\n",
              "      background-color: #E2EBFA;\n",
              "      box-shadow: 0px 1px 2px rgba(60, 64, 67, 0.3), 0px 1px 3px 1px rgba(60, 64, 67, 0.15);\n",
              "      fill: #174EA6;\n",
              "    }\n",
              "\n",
              "    .colab-df-buttons div {\n",
              "      margin-bottom: 4px;\n",
              "    }\n",
              "\n",
              "    [theme=dark] .colab-df-convert {\n",
              "      background-color: #3B4455;\n",
              "      fill: #D2E3FC;\n",
              "    }\n",
              "\n",
              "    [theme=dark] .colab-df-convert:hover {\n",
              "      background-color: #434B5C;\n",
              "      box-shadow: 0px 1px 3px 1px rgba(0, 0, 0, 0.15);\n",
              "      filter: drop-shadow(0px 1px 2px rgba(0, 0, 0, 0.3));\n",
              "      fill: #FFFFFF;\n",
              "    }\n",
              "  </style>\n",
              "\n",
              "    <script>\n",
              "      const buttonEl =\n",
              "        document.querySelector('#df-585cacca-37dd-4360-be04-02bc64e103f6 button.colab-df-convert');\n",
              "      buttonEl.style.display =\n",
              "        google.colab.kernel.accessAllowed ? 'block' : 'none';\n",
              "\n",
              "      async function convertToInteractive(key) {\n",
              "        const element = document.querySelector('#df-585cacca-37dd-4360-be04-02bc64e103f6');\n",
              "        const dataTable =\n",
              "          await google.colab.kernel.invokeFunction('convertToInteractive',\n",
              "                                                    [key], {});\n",
              "        if (!dataTable) return;\n",
              "\n",
              "        const docLinkHtml = 'Like what you see? Visit the ' +\n",
              "          '<a target=\"_blank\" href=https://colab.research.google.com/notebooks/data_table.ipynb>data table notebook</a>'\n",
              "          + ' to learn more about interactive tables.';\n",
              "        element.innerHTML = '';\n",
              "        dataTable['output_type'] = 'display_data';\n",
              "        await google.colab.output.renderOutput(dataTable, element);\n",
              "        const docLink = document.createElement('div');\n",
              "        docLink.innerHTML = docLinkHtml;\n",
              "        element.appendChild(docLink);\n",
              "      }\n",
              "    </script>\n",
              "  </div>\n",
              "\n",
              "\n",
              "<div id=\"df-04ce0181-487e-4ed7-af6c-0c6a615e761d\">\n",
              "  <button class=\"colab-df-quickchart\" onclick=\"quickchart('df-04ce0181-487e-4ed7-af6c-0c6a615e761d')\"\n",
              "            title=\"Suggest charts\"\n",
              "            style=\"display:none;\">\n",
              "\n",
              "<svg xmlns=\"http://www.w3.org/2000/svg\" height=\"24px\"viewBox=\"0 0 24 24\"\n",
              "     width=\"24px\">\n",
              "    <g>\n",
              "        <path d=\"M19 3H5c-1.1 0-2 .9-2 2v14c0 1.1.9 2 2 2h14c1.1 0 2-.9 2-2V5c0-1.1-.9-2-2-2zM9 17H7v-7h2v7zm4 0h-2V7h2v10zm4 0h-2v-4h2v4z\"/>\n",
              "    </g>\n",
              "</svg>\n",
              "  </button>\n",
              "\n",
              "<style>\n",
              "  .colab-df-quickchart {\n",
              "      --bg-color: #E8F0FE;\n",
              "      --fill-color: #1967D2;\n",
              "      --hover-bg-color: #E2EBFA;\n",
              "      --hover-fill-color: #174EA6;\n",
              "      --disabled-fill-color: #AAA;\n",
              "      --disabled-bg-color: #DDD;\n",
              "  }\n",
              "\n",
              "  [theme=dark] .colab-df-quickchart {\n",
              "      --bg-color: #3B4455;\n",
              "      --fill-color: #D2E3FC;\n",
              "      --hover-bg-color: #434B5C;\n",
              "      --hover-fill-color: #FFFFFF;\n",
              "      --disabled-bg-color: #3B4455;\n",
              "      --disabled-fill-color: #666;\n",
              "  }\n",
              "\n",
              "  .colab-df-quickchart {\n",
              "    background-color: var(--bg-color);\n",
              "    border: none;\n",
              "    border-radius: 50%;\n",
              "    cursor: pointer;\n",
              "    display: none;\n",
              "    fill: var(--fill-color);\n",
              "    height: 32px;\n",
              "    padding: 0;\n",
              "    width: 32px;\n",
              "  }\n",
              "\n",
              "  .colab-df-quickchart:hover {\n",
              "    background-color: var(--hover-bg-color);\n",
              "    box-shadow: 0 1px 2px rgba(60, 64, 67, 0.3), 0 1px 3px 1px rgba(60, 64, 67, 0.15);\n",
              "    fill: var(--button-hover-fill-color);\n",
              "  }\n",
              "\n",
              "  .colab-df-quickchart-complete:disabled,\n",
              "  .colab-df-quickchart-complete:disabled:hover {\n",
              "    background-color: var(--disabled-bg-color);\n",
              "    fill: var(--disabled-fill-color);\n",
              "    box-shadow: none;\n",
              "  }\n",
              "\n",
              "  .colab-df-spinner {\n",
              "    border: 2px solid var(--fill-color);\n",
              "    border-color: transparent;\n",
              "    border-bottom-color: var(--fill-color);\n",
              "    animation:\n",
              "      spin 1s steps(1) infinite;\n",
              "  }\n",
              "\n",
              "  @keyframes spin {\n",
              "    0% {\n",
              "      border-color: transparent;\n",
              "      border-bottom-color: var(--fill-color);\n",
              "      border-left-color: var(--fill-color);\n",
              "    }\n",
              "    20% {\n",
              "      border-color: transparent;\n",
              "      border-left-color: var(--fill-color);\n",
              "      border-top-color: var(--fill-color);\n",
              "    }\n",
              "    30% {\n",
              "      border-color: transparent;\n",
              "      border-left-color: var(--fill-color);\n",
              "      border-top-color: var(--fill-color);\n",
              "      border-right-color: var(--fill-color);\n",
              "    }\n",
              "    40% {\n",
              "      border-color: transparent;\n",
              "      border-right-color: var(--fill-color);\n",
              "      border-top-color: var(--fill-color);\n",
              "    }\n",
              "    60% {\n",
              "      border-color: transparent;\n",
              "      border-right-color: var(--fill-color);\n",
              "    }\n",
              "    80% {\n",
              "      border-color: transparent;\n",
              "      border-right-color: var(--fill-color);\n",
              "      border-bottom-color: var(--fill-color);\n",
              "    }\n",
              "    90% {\n",
              "      border-color: transparent;\n",
              "      border-bottom-color: var(--fill-color);\n",
              "    }\n",
              "  }\n",
              "</style>\n",
              "\n",
              "  <script>\n",
              "    async function quickchart(key) {\n",
              "      const quickchartButtonEl =\n",
              "        document.querySelector('#' + key + ' button');\n",
              "      quickchartButtonEl.disabled = true;  // To prevent multiple clicks.\n",
              "      quickchartButtonEl.classList.add('colab-df-spinner');\n",
              "      try {\n",
              "        const charts = await google.colab.kernel.invokeFunction(\n",
              "            'suggestCharts', [key], {});\n",
              "      } catch (error) {\n",
              "        console.error('Error during call to suggestCharts:', error);\n",
              "      }\n",
              "      quickchartButtonEl.classList.remove('colab-df-spinner');\n",
              "      quickchartButtonEl.classList.add('colab-df-quickchart-complete');\n",
              "    }\n",
              "    (() => {\n",
              "      let quickchartButtonEl =\n",
              "        document.querySelector('#df-04ce0181-487e-4ed7-af6c-0c6a615e761d button');\n",
              "      quickchartButtonEl.style.display =\n",
              "        google.colab.kernel.accessAllowed ? 'block' : 'none';\n",
              "    })();\n",
              "  </script>\n",
              "</div>\n",
              "\n",
              "  <div id=\"id_d8b3d621-9296-4fe8-8d98-98b87788a1da\">\n",
              "    <style>\n",
              "      .colab-df-generate {\n",
              "        background-color: #E8F0FE;\n",
              "        border: none;\n",
              "        border-radius: 50%;\n",
              "        cursor: pointer;\n",
              "        display: none;\n",
              "        fill: #1967D2;\n",
              "        height: 32px;\n",
              "        padding: 0 0 0 0;\n",
              "        width: 32px;\n",
              "      }\n",
              "\n",
              "      .colab-df-generate:hover {\n",
              "        background-color: #E2EBFA;\n",
              "        box-shadow: 0px 1px 2px rgba(60, 64, 67, 0.3), 0px 1px 3px 1px rgba(60, 64, 67, 0.15);\n",
              "        fill: #174EA6;\n",
              "      }\n",
              "\n",
              "      [theme=dark] .colab-df-generate {\n",
              "        background-color: #3B4455;\n",
              "        fill: #D2E3FC;\n",
              "      }\n",
              "\n",
              "      [theme=dark] .colab-df-generate:hover {\n",
              "        background-color: #434B5C;\n",
              "        box-shadow: 0px 1px 3px 1px rgba(0, 0, 0, 0.15);\n",
              "        filter: drop-shadow(0px 1px 2px rgba(0, 0, 0, 0.3));\n",
              "        fill: #FFFFFF;\n",
              "      }\n",
              "    </style>\n",
              "    <button class=\"colab-df-generate\" onclick=\"generateWithVariable('df3')\"\n",
              "            title=\"Generate code using this dataframe.\"\n",
              "            style=\"display:none;\">\n",
              "\n",
              "  <svg xmlns=\"http://www.w3.org/2000/svg\" height=\"24px\"viewBox=\"0 0 24 24\"\n",
              "       width=\"24px\">\n",
              "    <path d=\"M7,19H8.4L18.45,9,17,7.55,7,17.6ZM5,21V16.75L18.45,3.32a2,2,0,0,1,2.83,0l1.4,1.43a1.91,1.91,0,0,1,.58,1.4,1.91,1.91,0,0,1-.58,1.4L9.25,21ZM18.45,9,17,7.55Zm-12,3A5.31,5.31,0,0,0,4.9,8.1,5.31,5.31,0,0,0,1,6.5,5.31,5.31,0,0,0,4.9,4.9,5.31,5.31,0,0,0,6.5,1,5.31,5.31,0,0,0,8.1,4.9,5.31,5.31,0,0,0,12,6.5,5.46,5.46,0,0,0,6.5,12Z\"/>\n",
              "  </svg>\n",
              "    </button>\n",
              "    <script>\n",
              "      (() => {\n",
              "      const buttonEl =\n",
              "        document.querySelector('#id_d8b3d621-9296-4fe8-8d98-98b87788a1da button.colab-df-generate');\n",
              "      buttonEl.style.display =\n",
              "        google.colab.kernel.accessAllowed ? 'block' : 'none';\n",
              "\n",
              "      buttonEl.onclick = () => {\n",
              "        google.colab.notebook.generateWithVariable('df3');\n",
              "      }\n",
              "      })();\n",
              "    </script>\n",
              "  </div>\n",
              "\n",
              "    </div>\n",
              "  </div>\n"
            ],
            "application/vnd.google.colaboratory.intrinsic+json": {
              "type": "dataframe",
              "variable_name": "df3",
              "summary": "{\n  \"name\": \"df3\",\n  \"rows\": 80,\n  \"fields\": [\n    {\n      \"column\": \"file_name\",\n      \"properties\": {\n        \"dtype\": \"string\",\n        \"num_unique_values\": 80,\n        \"samples\": [\n          \"2963371.wav\",\n          \"2967602.wav\",\n          \"2964578.wav\"\n        ],\n        \"semantic_type\": \"\",\n        \"description\": \"\"\n      }\n    },\n    {\n      \"column\": \"transcription\",\n      \"properties\": {\n        \"dtype\": \"string\",\n        \"num_unique_values\": 80,\n        \"samples\": [\n          \"Al\\u00f4? Boa tarde, Meu nome \\u00e9 Viviane e eu falo aqui da Matriz. Tudo bem? Opa, tudo bom? Eu falo com Bruno. Isso. Bruno Eu estou entrando em contato com voc\\u00ea para a gente fazer um acompanhamento em rela\\u00e7\\u00e3o \\u00e0 marca Totvs, que \\u00e9 utilizado hoje na Brasil Sociedade de Perfura\\u00e7\\u00f5es Ltda. Voc\\u00ea ainda \\u00e9 um dos respons\\u00e1veis que faz a utiliza\\u00e7\\u00e3o do sistema na empresa. Na verdade, eu sou do departamento de TI, n\\u00e9? Quem utiliza o sistema diretamente? A equipe do RH, n\\u00e9? Entendi. Mas voc\\u00ea tem conhecimento na ferramenta? \\u00c9 s\\u00f3 da parte de TI, n\\u00e9? Entendi. \\u00c9 que, no caso, a gente est\\u00e1 entrando em contato com voc\\u00ea para fazer um acompanhamento em rela\\u00e7\\u00e3o \\u00e0 marca TOTVS que voc\\u00eas utilizam, s\\u00f3 para verificar se est\\u00e1 tudo ok com o sistema e se voc\\u00eas est\\u00e3o sendo bem atendidos. Nesse caso, ser\\u00e1 que voc\\u00ea poderia me ajudar? Posso? Posso. Certo. Eu s\\u00f3 vou fazer ent\\u00e3o algumas confirma\\u00e7\\u00f5es por quest\\u00f5es de seguran\\u00e7a. O seu nome \\u00e9 Bruno Prata. Ent\\u00e3o, atualmente. Hoje o senhor \\u00e9 um dos respons\\u00e1veis pela \\u00e1rea de TI da empresa, n\\u00e9? Isso \\u00e9 certo. O e-mail continua sendo b prata arroba pontocom. Positivo, certo? Obrigada pelas confirma\\u00e7\\u00f5es. Iniciando a nossa avalia\\u00e7\\u00e3o, ela \\u00e9 uma avalia\\u00e7\\u00e3o bem r\\u00e1pida, numa escala de 0 a 10, qual a probabilidade do senhor recomendar a Totvs a um amigo ou colega hoje? Nove. Certo. Gostaria de me informar sobre o motivo da sua nota ou n\\u00e3o. N\\u00e3o estou tranquilo, certo? Certo. Eu vou fazer agora algumas perguntas direcionadas. Aonde voc\\u00ea vai me responder a nota de 0 a 10? N\\u00e3o precisa falar o motivo da sua nota e tamb\\u00e9m n\\u00e3o precisa responder caso voc\\u00ea n\\u00e3o tenha o contato direto com a \\u00e1rea, tudo bem. Tudo bem. Em rela\\u00e7\\u00e3o a agilidade nos processos do suporte t\\u00e9cnico, uma nota de 0 a 10. Nove. Certo Em rela\\u00e7\\u00e3o ao atendimento do agente do suporte t\\u00e9cnico? Norma o atendimento do executivo de vendas, Eu n\\u00e3o tenho acesso a ele. Certo. A sua satisfa\\u00e7\\u00e3o com o custo dos produtos contratados tamb\\u00e9m n\\u00e3o. Essa parte n\\u00e3o \\u00e9 comigo. Certo? O atendimento do administrativo financeiro da Totvs tamb\\u00e9m n\\u00e3o \\u00e9 comigo. Certo \\u00e9 a sua satisfa\\u00e7\\u00e3o com a implanta\\u00e7\\u00e3o do software ou de algum m\\u00f3dulo. Caso voc\\u00ea tenha participado. N\\u00e3o, eu n\\u00e3o participei. Certo, Voc\\u00ea acha que hoje o produto da Totvs entrega o benef\\u00edcio esperado pela empresa ou pelo seu departamento? Tem a op\\u00e7\\u00e3o de entrega total, parcial ou n\\u00e3o entrega? Ent\\u00e3o, essa parte a\\u00ed tamb\\u00e9m. Como eu sou da \\u00e1rea de TI, n\\u00e9? Mas entrega, coloca assim. Certo Tamb\\u00e9m de 0 a 10, como que foi a sua experi\\u00eancia com a \\u00faltima atualiza\\u00e7\\u00e3o do software? Caso voc\\u00eas tenham feito essa atualiza\\u00e7\\u00e3o ou voc\\u00ea tenha notado algo de diferente no sistema de 0 a 10? N\\u00e3o, a gente n\\u00e3o fez, certo. E a \\u00faltima nota Bruno que seria em rela\\u00e7\\u00e3o a uma unidade que faz atendimento com voc\\u00eas a todos. Rio de Janeiro de 0 a dez. Voc\\u00ea gostaria de atribuir uma nota caso tenha contato? N\\u00e3o, n\\u00e3o tenho contato. Certo De tudo isso que eu lhe perguntei, voc\\u00ea gostaria de acrescentar algum ponto e teria como passar essa? Voc\\u00ea falou que a unidade que faz atendimento para gente no Rio de Janeiro, Como que \\u00e9 isso? Sabe explicar? E aqui para mim, ela aparece como todos Rio de Janeiro, que seria a unidade que faz o atendimento com voc\\u00eas em alguma coisa emergencial, quando acontece alguma falha no sistema? Sim, mas caso n\\u00e3o seja essa unidade, a gente consegue fazer essa troca por aqui. A\\u00ed, a pr\\u00f3xima vez, quando a gente retornar o contato com voc\\u00eas, a\\u00ed j\\u00e1 vai a unidade certa. N\\u00e3o, n\\u00e3o, t\\u00e1 tranquilo. \\u00c9 isso mesmo. S\\u00f3 queria ter certeza a certo. E voc\\u00ea, ficou com mais alguma d\\u00favida? N\\u00e3o. S\\u00f3 isso. T\\u00e1 bom ent\\u00e3o. Bruno, muito obrigada pela sua participa\\u00e7\\u00e3o e tenha uma \\u00f3tima tarde. Falou tchau, tchau, tchau, tchau.\",\n          \"Al\\u00f4, boa tarde. Boa tarde. Fala com o senhor Cl\\u00f3vis Gentili. Sim, Cl\\u00f3vis, me chamo Beatriz. Fala pra todos. Tudo bem? Tudo bem? Que bom! Voc\\u00ea gostaria de falar com o senhor? O senhor seria o respons\\u00e1vel da CGC atacadista, n\\u00e9? \\u00c9 bem r\\u00e1pido meu contato, senhor Cl\\u00f3vis, eu preciso s\\u00f3 fazer um acompanhamento pra saber como t\\u00e1 a experi\\u00eancia e a satisfa\\u00e7\\u00e3o de voc\\u00eas. Esse acompanhamento dura dois minutinhos no m\\u00e1ximo. \\u00c9 feito pelo m\\u00e9todo de NPS. Tudo bem, tudo bem. T\\u00e1. O senhor vai avaliar somente de 0A10A marca Totem. Alguns pontos que eu vou perguntar. T\\u00e1. Vou confirmar o CNPJ. CNPJ 19 705 oito tr\\u00eas zero 1000 contra quatro dois Ok. Ok. Obrigada pela confirma\\u00e7\\u00e3o, senhor Cl\\u00f3vis. Numa escala de 0 a 10, qual a probabilidade do senhor recomendar a TOTVS a um amigo ou colega hoje? Tem algum coment\\u00e1rio que o senhor gostaria de deixar sobre a nota? N\\u00e3o. Ent\\u00e3o, para a gente aprofundar um pouco mais na melhoria, agora eu vou falar os pontos espec\\u00edficos e pe\\u00e7o que o senhor avalie tamb\\u00e9m somente de 0 a 10, caso tenha contato. T\\u00e1 falando do suporte t\\u00e9cnico. Como o senhor avalia a agilidade nos processos do suporte hoje demorado de 0 a 10? Quanto? Zero cinco T\\u00e1 falando em rela\\u00e7\\u00e3o ao atendimento dos agentes do suporte em geral, n\\u00e9? Oito Falando em rela\\u00e7\\u00e3o ao comercial, o atendimento do executivo de vendas de voc\\u00eas. Oito Falando dos custos e valores dos produtos contratados. Sete Atendimento do financeiro referente a boletos e negocia\\u00e7\\u00f5es, caso precisem. Um ponto que n\\u00e3o precisamos colocar hoje a satisfa\\u00e7\\u00e3o com a implanta\\u00e7\\u00e3o do software Esteve na implanta\\u00e7\\u00e3o? Sim. Como foi De 0 a 10? Oito. T\\u00e1, hoje o sistema. Ele entrega o benef\\u00edcio que voc\\u00eas precisam. Entrega totalmente, parcialmente ou n\\u00e3o entrega? Parcialmente. Como foi a experi\\u00eancia do senhor com a atualiza\\u00e7\\u00e3o do software Zera tamb\\u00e9m? Caso tenha atualizado? Sete. Sete Para a gente finalizar, pe\\u00e7o que o senhor avalie tamb\\u00e9m de zero a dez o atendimento realizado pela Totus Unidade respons\\u00e1vel por voc\\u00eas do Mato Grosso. O senhor tem contato? Sete Essas as perguntas, senhor Cl\\u00f3vis. O senhor tem algum coment\\u00e1rio final? Mais algum ponto? N\\u00e3o, n\\u00e3o t\\u00e1. Esse acompanhamento ele ocorre num per\\u00edodo de seis meses a um ano. T\\u00e1. Ent\\u00e3o, passando o per\\u00edodo, retornaremos o contato. Tudo bem? Tudo bem, Obrigado. Eu agrade\\u00e7o. Tenha uma \\u00f3tima tarde. Tchau Tchau. Tchau. Tchau.\",\n          \"Cl\\u00f3vis. Global Silvia. Oi, Silvia, boa tarde. Eu gostaria de falar com o Robson da Departamento Pessoal Momento. Quem vai falar \\u00e9 Lilia, da empresa Totvs da TOTVS. Aguarda s\\u00f3 um momento. Lilian Aguardo. Obrigada. I get. It out. N\\u00e3o. Vale mais a pena. Al\\u00e9m do. Mais. O momento. Horripilante, Na realidade. S\\u00f3 mais um momento. And I can. You think you to know how I can you will you? Know how aqui. Don't tell a self. Voc\\u00ea n\\u00e3o prefere me retornar daqui uns cinco minutos? RETORNO Sim. Obrigada. Obrigada. Tchau.\"\n        ],\n        \"semantic_type\": \"\",\n        \"description\": \"\"\n      }\n    },\n    {\n      \"column\": \"Atendeu?\",\n      \"properties\": {\n        \"dtype\": \"category\",\n        \"num_unique_values\": 2,\n        \"samples\": [\n          \"N\\u00e3o\",\n          \"Sim\"\n        ],\n        \"semantic_type\": \"\",\n        \"description\": \"\"\n      }\n    },\n    {\n      \"column\": \"Empresa\",\n      \"properties\": {\n        \"dtype\": \"string\",\n        \"num_unique_values\": 54,\n        \"samples\": [\n          \"Cl\\u00f3vis. Global Silvia\",\n          \"Piazza Navona\"\n        ],\n        \"semantic_type\": \"\",\n        \"description\": \"\"\n      }\n    },\n    {\n      \"column\": \"Atendente\",\n      \"properties\": {\n        \"dtype\": \"category\",\n        \"num_unique_values\": 9,\n        \"samples\": [\n          \" Beatriz\",\n          \"Viviane\"\n        ],\n        \"semantic_type\": \"\",\n        \"description\": \"\"\n      }\n    },\n    {\n      \"column\": \"Recomenda\\u00e7\\u00e3o TOTVS\",\n      \"properties\": {\n        \"dtype\": \"category\",\n        \"num_unique_values\": 8,\n        \"samples\": [\n          \"6.0\",\n          \"8.0\"\n        ],\n        \"semantic_type\": \"\",\n        \"description\": \"\"\n      }\n    },\n    {\n      \"column\": \"Suporte \",\n      \"properties\": {\n        \"dtype\": \"category\",\n        \"num_unique_values\": 10,\n        \"samples\": [\n          \"4.0\",\n          \"N\\u00e3o Dispon\\u00edvel\"\n        ],\n        \"semantic_type\": \"\",\n        \"description\": \"\"\n      }\n    },\n    {\n      \"column\": \"Atendimento agente\",\n      \"properties\": {\n        \"dtype\": \"category\",\n        \"num_unique_values\": 8,\n        \"samples\": [\n          \"N\\u00e3o Dispon\\u00edvel\",\n          \"0.0\"\n        ],\n        \"semantic_type\": \"\",\n        \"description\": \"\"\n      }\n    },\n    {\n      \"column\": \"Executivo de Vendas/ Administrativo e financeiro\",\n      \"properties\": {\n        \"dtype\": \"category\",\n        \"num_unique_values\": 7,\n        \"samples\": [\n          \"8.0\",\n          \"N\\u00e3o Dispon\\u00edvel\"\n        ],\n        \"semantic_type\": \"\",\n        \"description\": \"\"\n      }\n    },\n    {\n      \"column\": \"Custos e valores do servi\\u00e7o contratado\",\n      \"properties\": {\n        \"dtype\": \"category\",\n        \"num_unique_values\": 10,\n        \"samples\": [\n          \"0.0\",\n          \"N\\u00e3o Dispon\\u00edvel\"\n        ],\n        \"semantic_type\": \"\",\n        \"description\": \"\"\n      }\n    },\n    {\n      \"column\": \"Implanta\\u00e7\\u00e3o de software\",\n      \"properties\": {\n        \"dtype\": \"category\",\n        \"num_unique_values\": 6,\n        \"samples\": [\n          \"8.0\",\n          \"N\\u00e3o Dispon\\u00edvel\"\n        ],\n        \"semantic_type\": \"\",\n        \"description\": \"\"\n      }\n    },\n    {\n      \"column\": \"Entrega de servi\\u00e7o\",\n      \"properties\": {\n        \"dtype\": \"category\",\n        \"num_unique_values\": 3,\n        \"samples\": [\n          \"Parcialmente\",\n          \"N\\u00e3o Dispon\\u00edvel\"\n        ],\n        \"semantic_type\": \"\",\n        \"description\": \"\"\n      }\n    },\n    {\n      \"column\": \"Atualiza\\u00e7\\u00e3o de software\",\n      \"properties\": {\n        \"dtype\": \"category\",\n        \"num_unique_values\": 10,\n        \"samples\": [\n          \"0.0\",\n          \"N\\u00e3o Dispon\\u00edvel\"\n        ],\n        \"semantic_type\": \"\",\n        \"description\": \"\"\n      }\n    },\n    {\n      \"column\": \"Nota Unidade\",\n      \"properties\": {\n        \"dtype\": \"category\",\n        \"num_unique_values\": 8,\n        \"samples\": [\n          \"N\\u00e3o Dispon\\u00edvel\",\n          \"9.0\"\n        ],\n        \"semantic_type\": \"\",\n        \"description\": \"\"\n      }\n    }\n  ]\n}"
            }
          },
          "metadata": {},
          "execution_count": 13
        }
      ]
    },
    {
      "cell_type": "code",
      "source": [
        "df3.isnull().sum()"
      ],
      "metadata": {
        "colab": {
          "base_uri": "https://localhost:8080/",
          "height": 523
        },
        "id": "L6TZGguuJIyw",
        "outputId": "b9f6ba9c-375d-404d-fff0-11e851176853"
      },
      "execution_count": 14,
      "outputs": [
        {
          "output_type": "execute_result",
          "data": {
            "text/plain": [
              "file_name                                           0\n",
              "transcription                                       0\n",
              "Atendeu?                                            0\n",
              "Empresa                                             0\n",
              "Atendente                                           0\n",
              "Recomendação TOTVS                                  0\n",
              "Suporte                                             0\n",
              "Atendimento agente                                  0\n",
              "Executivo de Vendas/ Administrativo e financeiro    0\n",
              "Custos e valores do serviço contratado              0\n",
              "Implantação de software                             0\n",
              "Entrega de serviço                                  0\n",
              "Atualização de software                             0\n",
              "Nota Unidade                                        0\n",
              "dtype: int64"
            ],
            "text/html": [
              "<div>\n",
              "<style scoped>\n",
              "    .dataframe tbody tr th:only-of-type {\n",
              "        vertical-align: middle;\n",
              "    }\n",
              "\n",
              "    .dataframe tbody tr th {\n",
              "        vertical-align: top;\n",
              "    }\n",
              "\n",
              "    .dataframe thead th {\n",
              "        text-align: right;\n",
              "    }\n",
              "</style>\n",
              "<table border=\"1\" class=\"dataframe\">\n",
              "  <thead>\n",
              "    <tr style=\"text-align: right;\">\n",
              "      <th></th>\n",
              "      <th>0</th>\n",
              "    </tr>\n",
              "  </thead>\n",
              "  <tbody>\n",
              "    <tr>\n",
              "      <th>file_name</th>\n",
              "      <td>0</td>\n",
              "    </tr>\n",
              "    <tr>\n",
              "      <th>transcription</th>\n",
              "      <td>0</td>\n",
              "    </tr>\n",
              "    <tr>\n",
              "      <th>Atendeu?</th>\n",
              "      <td>0</td>\n",
              "    </tr>\n",
              "    <tr>\n",
              "      <th>Empresa</th>\n",
              "      <td>0</td>\n",
              "    </tr>\n",
              "    <tr>\n",
              "      <th>Atendente</th>\n",
              "      <td>0</td>\n",
              "    </tr>\n",
              "    <tr>\n",
              "      <th>Recomendação TOTVS</th>\n",
              "      <td>0</td>\n",
              "    </tr>\n",
              "    <tr>\n",
              "      <th>Suporte</th>\n",
              "      <td>0</td>\n",
              "    </tr>\n",
              "    <tr>\n",
              "      <th>Atendimento agente</th>\n",
              "      <td>0</td>\n",
              "    </tr>\n",
              "    <tr>\n",
              "      <th>Executivo de Vendas/ Administrativo e financeiro</th>\n",
              "      <td>0</td>\n",
              "    </tr>\n",
              "    <tr>\n",
              "      <th>Custos e valores do serviço contratado</th>\n",
              "      <td>0</td>\n",
              "    </tr>\n",
              "    <tr>\n",
              "      <th>Implantação de software</th>\n",
              "      <td>0</td>\n",
              "    </tr>\n",
              "    <tr>\n",
              "      <th>Entrega de serviço</th>\n",
              "      <td>0</td>\n",
              "    </tr>\n",
              "    <tr>\n",
              "      <th>Atualização de software</th>\n",
              "      <td>0</td>\n",
              "    </tr>\n",
              "    <tr>\n",
              "      <th>Nota Unidade</th>\n",
              "      <td>0</td>\n",
              "    </tr>\n",
              "  </tbody>\n",
              "</table>\n",
              "</div><br><label><b>dtype:</b> int64</label>"
            ]
          },
          "metadata": {},
          "execution_count": 14
        }
      ]
    },
    {
      "cell_type": "code",
      "source": [
        "df3.columns"
      ],
      "metadata": {
        "colab": {
          "base_uri": "https://localhost:8080/"
        },
        "id": "7GC6-HK-J-Br",
        "outputId": "89bea0c6-dc94-4eb1-dfe4-030f4b913a13"
      },
      "execution_count": 16,
      "outputs": [
        {
          "output_type": "execute_result",
          "data": {
            "text/plain": [
              "Index(['file_name', 'transcription', 'Atendeu?', 'Empresa', 'Atendente',\n",
              "       'Recomendação TOTVS', 'Suporte ', 'Atendimento agente',\n",
              "       'Executivo de Vendas/ Administrativo e financeiro',\n",
              "       'Custos e valores do serviço contratado', 'Implantação de software',\n",
              "       'Entrega de serviço', 'Atualização de software', 'Nota Unidade'],\n",
              "      dtype='object')"
            ]
          },
          "metadata": {},
          "execution_count": 16
        }
      ]
    },
    {
      "cell_type": "code",
      "source": [
        "df3.rename(columns={\"file_name\": \"Arquivo\", \"transcription\": \"Transcrição\", \"Custos e valores do serviço contratado\": \"Custos e valores\",\n",
        "\"Implantação de software\": \"Implantação Software\", \"Entrega de serviço\": \"Entrega Serviço\", \"Atualização de software\": \"Atualização Software\",\n",
        "\"Executivo de Vendas/ Admnistração e financeiro\": \"Executivo Vendas/Admnistrativo e Financeiro\"}, inplace=True)"
      ],
      "metadata": {
        "id": "4rUoC16qKQnX"
      },
      "execution_count": 17,
      "outputs": []
    },
    {
      "cell_type": "code",
      "source": [
        "df3.replace('Não Disponível', 'N/A', inplace=True)"
      ],
      "metadata": {
        "id": "kBPGPY6yKUsJ"
      },
      "execution_count": 18,
      "outputs": []
    },
    {
      "cell_type": "code",
      "source": [
        "df3.head()"
      ],
      "metadata": {
        "colab": {
          "base_uri": "https://localhost:8080/",
          "height": 626
        },
        "id": "Nng6L7oaKXAq",
        "outputId": "591e7540-7114-4b6d-9b40-71a84326840f"
      },
      "execution_count": 19,
      "outputs": [
        {
          "output_type": "execute_result",
          "data": {
            "text/plain": [
              "       Arquivo                                        Transcrição Atendeu?  \\\n",
              "0  2967602.wav  Alô, boa tarde. Boa tarde. Fala com o senhor C...      Sim   \n",
              "1  2967344.wav  Plastico Lojas BR. Boa tarde! Boa tarde. Meu n...      Não   \n",
              "2  2967631.wav  Eu tenho o Bourbon. Lorena, boa tarde. Boa tar...      Sim   \n",
              "3  2965935.wav  Alô, Alô, Bom dia. Leandro Eu novamente. Tudo ...      Sim   \n",
              "4  2965979.wav  Edson Paulista. João Paulo. Bom dia. Bom dia! ...      Sim   \n",
              "\n",
              "                           Empresa Atendente Recomendação TOTVS Suporte   \\\n",
              "0                   CGC atacadista   Beatriz                N/A      0.0   \n",
              "1                Plastico Lojas BR   Viviane                N/A      N/A   \n",
              "2    Rio Hotel by Bourbon Maringá      Lilia                6.0      7.0   \n",
              "3                           Conab      Lilia                9.0      6.0   \n",
              "4  Edifício Paulista Capital Plaza    Lilia                10.0      9.0   \n",
              "\n",
              "  Atendimento agente Executivo de Vendas/ Administrativo e financeiro  \\\n",
              "0                8.0                                              8.0   \n",
              "1                N/A                                              N/A   \n",
              "2                8.0                                              N/A   \n",
              "3                N/A                                              7.0   \n",
              "4               10.0                                              N/A   \n",
              "\n",
              "  Custos e valores Implantação Software Entrega Serviço Atualização Software  \\\n",
              "0              7.0                  8.0    Parcialmente                  7.0   \n",
              "1              N/A                  N/A             N/A                  N/A   \n",
              "2              N/A                  9.0    Parcialmente                  6.0   \n",
              "3              N/A                  N/A           Total                  5.0   \n",
              "4              9.0                  9.0           Total                 10.0   \n",
              "\n",
              "  Nota Unidade  \n",
              "0          7.0  \n",
              "1          N/A  \n",
              "2          7.0  \n",
              "3          5.0  \n",
              "4         10.0  "
            ],
            "text/html": [
              "\n",
              "  <div id=\"df-b91edd80-3056-40ab-a7b8-a317fa50a466\" class=\"colab-df-container\">\n",
              "    <div>\n",
              "<style scoped>\n",
              "    .dataframe tbody tr th:only-of-type {\n",
              "        vertical-align: middle;\n",
              "    }\n",
              "\n",
              "    .dataframe tbody tr th {\n",
              "        vertical-align: top;\n",
              "    }\n",
              "\n",
              "    .dataframe thead th {\n",
              "        text-align: right;\n",
              "    }\n",
              "</style>\n",
              "<table border=\"1\" class=\"dataframe\">\n",
              "  <thead>\n",
              "    <tr style=\"text-align: right;\">\n",
              "      <th></th>\n",
              "      <th>Arquivo</th>\n",
              "      <th>Transcrição</th>\n",
              "      <th>Atendeu?</th>\n",
              "      <th>Empresa</th>\n",
              "      <th>Atendente</th>\n",
              "      <th>Recomendação TOTVS</th>\n",
              "      <th>Suporte</th>\n",
              "      <th>Atendimento agente</th>\n",
              "      <th>Executivo de Vendas/ Administrativo e financeiro</th>\n",
              "      <th>Custos e valores</th>\n",
              "      <th>Implantação Software</th>\n",
              "      <th>Entrega Serviço</th>\n",
              "      <th>Atualização Software</th>\n",
              "      <th>Nota Unidade</th>\n",
              "    </tr>\n",
              "  </thead>\n",
              "  <tbody>\n",
              "    <tr>\n",
              "      <th>0</th>\n",
              "      <td>2967602.wav</td>\n",
              "      <td>Alô, boa tarde. Boa tarde. Fala com o senhor C...</td>\n",
              "      <td>Sim</td>\n",
              "      <td>CGC atacadista</td>\n",
              "      <td>Beatriz</td>\n",
              "      <td>N/A</td>\n",
              "      <td>0.0</td>\n",
              "      <td>8.0</td>\n",
              "      <td>8.0</td>\n",
              "      <td>7.0</td>\n",
              "      <td>8.0</td>\n",
              "      <td>Parcialmente</td>\n",
              "      <td>7.0</td>\n",
              "      <td>7.0</td>\n",
              "    </tr>\n",
              "    <tr>\n",
              "      <th>1</th>\n",
              "      <td>2967344.wav</td>\n",
              "      <td>Plastico Lojas BR. Boa tarde! Boa tarde. Meu n...</td>\n",
              "      <td>Não</td>\n",
              "      <td>Plastico Lojas BR</td>\n",
              "      <td>Viviane</td>\n",
              "      <td>N/A</td>\n",
              "      <td>N/A</td>\n",
              "      <td>N/A</td>\n",
              "      <td>N/A</td>\n",
              "      <td>N/A</td>\n",
              "      <td>N/A</td>\n",
              "      <td>N/A</td>\n",
              "      <td>N/A</td>\n",
              "      <td>N/A</td>\n",
              "    </tr>\n",
              "    <tr>\n",
              "      <th>2</th>\n",
              "      <td>2967631.wav</td>\n",
              "      <td>Eu tenho o Bourbon. Lorena, boa tarde. Boa tar...</td>\n",
              "      <td>Sim</td>\n",
              "      <td>Rio Hotel by Bourbon Maringá</td>\n",
              "      <td>Lilia</td>\n",
              "      <td>6.0</td>\n",
              "      <td>7.0</td>\n",
              "      <td>8.0</td>\n",
              "      <td>N/A</td>\n",
              "      <td>N/A</td>\n",
              "      <td>9.0</td>\n",
              "      <td>Parcialmente</td>\n",
              "      <td>6.0</td>\n",
              "      <td>7.0</td>\n",
              "    </tr>\n",
              "    <tr>\n",
              "      <th>3</th>\n",
              "      <td>2965935.wav</td>\n",
              "      <td>Alô, Alô, Bom dia. Leandro Eu novamente. Tudo ...</td>\n",
              "      <td>Sim</td>\n",
              "      <td>Conab</td>\n",
              "      <td>Lilia</td>\n",
              "      <td>9.0</td>\n",
              "      <td>6.0</td>\n",
              "      <td>N/A</td>\n",
              "      <td>7.0</td>\n",
              "      <td>N/A</td>\n",
              "      <td>N/A</td>\n",
              "      <td>Total</td>\n",
              "      <td>5.0</td>\n",
              "      <td>5.0</td>\n",
              "    </tr>\n",
              "    <tr>\n",
              "      <th>4</th>\n",
              "      <td>2965979.wav</td>\n",
              "      <td>Edson Paulista. João Paulo. Bom dia. Bom dia! ...</td>\n",
              "      <td>Sim</td>\n",
              "      <td>Edifício Paulista Capital Plaza</td>\n",
              "      <td>Lilia</td>\n",
              "      <td>10.0</td>\n",
              "      <td>9.0</td>\n",
              "      <td>10.0</td>\n",
              "      <td>N/A</td>\n",
              "      <td>9.0</td>\n",
              "      <td>9.0</td>\n",
              "      <td>Total</td>\n",
              "      <td>10.0</td>\n",
              "      <td>10.0</td>\n",
              "    </tr>\n",
              "  </tbody>\n",
              "</table>\n",
              "</div>\n",
              "    <div class=\"colab-df-buttons\">\n",
              "\n",
              "  <div class=\"colab-df-container\">\n",
              "    <button class=\"colab-df-convert\" onclick=\"convertToInteractive('df-b91edd80-3056-40ab-a7b8-a317fa50a466')\"\n",
              "            title=\"Convert this dataframe to an interactive table.\"\n",
              "            style=\"display:none;\">\n",
              "\n",
              "  <svg xmlns=\"http://www.w3.org/2000/svg\" height=\"24px\" viewBox=\"0 -960 960 960\">\n",
              "    <path d=\"M120-120v-720h720v720H120Zm60-500h600v-160H180v160Zm220 220h160v-160H400v160Zm0 220h160v-160H400v160ZM180-400h160v-160H180v160Zm440 0h160v-160H620v160ZM180-180h160v-160H180v160Zm440 0h160v-160H620v160Z\"/>\n",
              "  </svg>\n",
              "    </button>\n",
              "\n",
              "  <style>\n",
              "    .colab-df-container {\n",
              "      display:flex;\n",
              "      gap: 12px;\n",
              "    }\n",
              "\n",
              "    .colab-df-convert {\n",
              "      background-color: #E8F0FE;\n",
              "      border: none;\n",
              "      border-radius: 50%;\n",
              "      cursor: pointer;\n",
              "      display: none;\n",
              "      fill: #1967D2;\n",
              "      height: 32px;\n",
              "      padding: 0 0 0 0;\n",
              "      width: 32px;\n",
              "    }\n",
              "\n",
              "    .colab-df-convert:hover {\n",
              "      background-color: #E2EBFA;\n",
              "      box-shadow: 0px 1px 2px rgba(60, 64, 67, 0.3), 0px 1px 3px 1px rgba(60, 64, 67, 0.15);\n",
              "      fill: #174EA6;\n",
              "    }\n",
              "\n",
              "    .colab-df-buttons div {\n",
              "      margin-bottom: 4px;\n",
              "    }\n",
              "\n",
              "    [theme=dark] .colab-df-convert {\n",
              "      background-color: #3B4455;\n",
              "      fill: #D2E3FC;\n",
              "    }\n",
              "\n",
              "    [theme=dark] .colab-df-convert:hover {\n",
              "      background-color: #434B5C;\n",
              "      box-shadow: 0px 1px 3px 1px rgba(0, 0, 0, 0.15);\n",
              "      filter: drop-shadow(0px 1px 2px rgba(0, 0, 0, 0.3));\n",
              "      fill: #FFFFFF;\n",
              "    }\n",
              "  </style>\n",
              "\n",
              "    <script>\n",
              "      const buttonEl =\n",
              "        document.querySelector('#df-b91edd80-3056-40ab-a7b8-a317fa50a466 button.colab-df-convert');\n",
              "      buttonEl.style.display =\n",
              "        google.colab.kernel.accessAllowed ? 'block' : 'none';\n",
              "\n",
              "      async function convertToInteractive(key) {\n",
              "        const element = document.querySelector('#df-b91edd80-3056-40ab-a7b8-a317fa50a466');\n",
              "        const dataTable =\n",
              "          await google.colab.kernel.invokeFunction('convertToInteractive',\n",
              "                                                    [key], {});\n",
              "        if (!dataTable) return;\n",
              "\n",
              "        const docLinkHtml = 'Like what you see? Visit the ' +\n",
              "          '<a target=\"_blank\" href=https://colab.research.google.com/notebooks/data_table.ipynb>data table notebook</a>'\n",
              "          + ' to learn more about interactive tables.';\n",
              "        element.innerHTML = '';\n",
              "        dataTable['output_type'] = 'display_data';\n",
              "        await google.colab.output.renderOutput(dataTable, element);\n",
              "        const docLink = document.createElement('div');\n",
              "        docLink.innerHTML = docLinkHtml;\n",
              "        element.appendChild(docLink);\n",
              "      }\n",
              "    </script>\n",
              "  </div>\n",
              "\n",
              "\n",
              "<div id=\"df-eb468f33-279a-4727-bf74-a8dedf384977\">\n",
              "  <button class=\"colab-df-quickchart\" onclick=\"quickchart('df-eb468f33-279a-4727-bf74-a8dedf384977')\"\n",
              "            title=\"Suggest charts\"\n",
              "            style=\"display:none;\">\n",
              "\n",
              "<svg xmlns=\"http://www.w3.org/2000/svg\" height=\"24px\"viewBox=\"0 0 24 24\"\n",
              "     width=\"24px\">\n",
              "    <g>\n",
              "        <path d=\"M19 3H5c-1.1 0-2 .9-2 2v14c0 1.1.9 2 2 2h14c1.1 0 2-.9 2-2V5c0-1.1-.9-2-2-2zM9 17H7v-7h2v7zm4 0h-2V7h2v10zm4 0h-2v-4h2v4z\"/>\n",
              "    </g>\n",
              "</svg>\n",
              "  </button>\n",
              "\n",
              "<style>\n",
              "  .colab-df-quickchart {\n",
              "      --bg-color: #E8F0FE;\n",
              "      --fill-color: #1967D2;\n",
              "      --hover-bg-color: #E2EBFA;\n",
              "      --hover-fill-color: #174EA6;\n",
              "      --disabled-fill-color: #AAA;\n",
              "      --disabled-bg-color: #DDD;\n",
              "  }\n",
              "\n",
              "  [theme=dark] .colab-df-quickchart {\n",
              "      --bg-color: #3B4455;\n",
              "      --fill-color: #D2E3FC;\n",
              "      --hover-bg-color: #434B5C;\n",
              "      --hover-fill-color: #FFFFFF;\n",
              "      --disabled-bg-color: #3B4455;\n",
              "      --disabled-fill-color: #666;\n",
              "  }\n",
              "\n",
              "  .colab-df-quickchart {\n",
              "    background-color: var(--bg-color);\n",
              "    border: none;\n",
              "    border-radius: 50%;\n",
              "    cursor: pointer;\n",
              "    display: none;\n",
              "    fill: var(--fill-color);\n",
              "    height: 32px;\n",
              "    padding: 0;\n",
              "    width: 32px;\n",
              "  }\n",
              "\n",
              "  .colab-df-quickchart:hover {\n",
              "    background-color: var(--hover-bg-color);\n",
              "    box-shadow: 0 1px 2px rgba(60, 64, 67, 0.3), 0 1px 3px 1px rgba(60, 64, 67, 0.15);\n",
              "    fill: var(--button-hover-fill-color);\n",
              "  }\n",
              "\n",
              "  .colab-df-quickchart-complete:disabled,\n",
              "  .colab-df-quickchart-complete:disabled:hover {\n",
              "    background-color: var(--disabled-bg-color);\n",
              "    fill: var(--disabled-fill-color);\n",
              "    box-shadow: none;\n",
              "  }\n",
              "\n",
              "  .colab-df-spinner {\n",
              "    border: 2px solid var(--fill-color);\n",
              "    border-color: transparent;\n",
              "    border-bottom-color: var(--fill-color);\n",
              "    animation:\n",
              "      spin 1s steps(1) infinite;\n",
              "  }\n",
              "\n",
              "  @keyframes spin {\n",
              "    0% {\n",
              "      border-color: transparent;\n",
              "      border-bottom-color: var(--fill-color);\n",
              "      border-left-color: var(--fill-color);\n",
              "    }\n",
              "    20% {\n",
              "      border-color: transparent;\n",
              "      border-left-color: var(--fill-color);\n",
              "      border-top-color: var(--fill-color);\n",
              "    }\n",
              "    30% {\n",
              "      border-color: transparent;\n",
              "      border-left-color: var(--fill-color);\n",
              "      border-top-color: var(--fill-color);\n",
              "      border-right-color: var(--fill-color);\n",
              "    }\n",
              "    40% {\n",
              "      border-color: transparent;\n",
              "      border-right-color: var(--fill-color);\n",
              "      border-top-color: var(--fill-color);\n",
              "    }\n",
              "    60% {\n",
              "      border-color: transparent;\n",
              "      border-right-color: var(--fill-color);\n",
              "    }\n",
              "    80% {\n",
              "      border-color: transparent;\n",
              "      border-right-color: var(--fill-color);\n",
              "      border-bottom-color: var(--fill-color);\n",
              "    }\n",
              "    90% {\n",
              "      border-color: transparent;\n",
              "      border-bottom-color: var(--fill-color);\n",
              "    }\n",
              "  }\n",
              "</style>\n",
              "\n",
              "  <script>\n",
              "    async function quickchart(key) {\n",
              "      const quickchartButtonEl =\n",
              "        document.querySelector('#' + key + ' button');\n",
              "      quickchartButtonEl.disabled = true;  // To prevent multiple clicks.\n",
              "      quickchartButtonEl.classList.add('colab-df-spinner');\n",
              "      try {\n",
              "        const charts = await google.colab.kernel.invokeFunction(\n",
              "            'suggestCharts', [key], {});\n",
              "      } catch (error) {\n",
              "        console.error('Error during call to suggestCharts:', error);\n",
              "      }\n",
              "      quickchartButtonEl.classList.remove('colab-df-spinner');\n",
              "      quickchartButtonEl.classList.add('colab-df-quickchart-complete');\n",
              "    }\n",
              "    (() => {\n",
              "      let quickchartButtonEl =\n",
              "        document.querySelector('#df-eb468f33-279a-4727-bf74-a8dedf384977 button');\n",
              "      quickchartButtonEl.style.display =\n",
              "        google.colab.kernel.accessAllowed ? 'block' : 'none';\n",
              "    })();\n",
              "  </script>\n",
              "</div>\n",
              "\n",
              "    </div>\n",
              "  </div>\n"
            ],
            "application/vnd.google.colaboratory.intrinsic+json": {
              "type": "dataframe",
              "variable_name": "df3",
              "summary": "{\n  \"name\": \"df3\",\n  \"rows\": 80,\n  \"fields\": [\n    {\n      \"column\": \"Arquivo\",\n      \"properties\": {\n        \"dtype\": \"string\",\n        \"num_unique_values\": 80,\n        \"samples\": [\n          \"2963371.wav\",\n          \"2967602.wav\",\n          \"2964578.wav\"\n        ],\n        \"semantic_type\": \"\",\n        \"description\": \"\"\n      }\n    },\n    {\n      \"column\": \"Transcri\\u00e7\\u00e3o\",\n      \"properties\": {\n        \"dtype\": \"string\",\n        \"num_unique_values\": 80,\n        \"samples\": [\n          \"Al\\u00f4? Boa tarde, Meu nome \\u00e9 Viviane e eu falo aqui da Matriz. Tudo bem? Opa, tudo bom? Eu falo com Bruno. Isso. Bruno Eu estou entrando em contato com voc\\u00ea para a gente fazer um acompanhamento em rela\\u00e7\\u00e3o \\u00e0 marca Totvs, que \\u00e9 utilizado hoje na Brasil Sociedade de Perfura\\u00e7\\u00f5es Ltda. Voc\\u00ea ainda \\u00e9 um dos respons\\u00e1veis que faz a utiliza\\u00e7\\u00e3o do sistema na empresa. Na verdade, eu sou do departamento de TI, n\\u00e9? Quem utiliza o sistema diretamente? A equipe do RH, n\\u00e9? Entendi. Mas voc\\u00ea tem conhecimento na ferramenta? \\u00c9 s\\u00f3 da parte de TI, n\\u00e9? Entendi. \\u00c9 que, no caso, a gente est\\u00e1 entrando em contato com voc\\u00ea para fazer um acompanhamento em rela\\u00e7\\u00e3o \\u00e0 marca TOTVS que voc\\u00eas utilizam, s\\u00f3 para verificar se est\\u00e1 tudo ok com o sistema e se voc\\u00eas est\\u00e3o sendo bem atendidos. Nesse caso, ser\\u00e1 que voc\\u00ea poderia me ajudar? Posso? Posso. Certo. Eu s\\u00f3 vou fazer ent\\u00e3o algumas confirma\\u00e7\\u00f5es por quest\\u00f5es de seguran\\u00e7a. O seu nome \\u00e9 Bruno Prata. Ent\\u00e3o, atualmente. Hoje o senhor \\u00e9 um dos respons\\u00e1veis pela \\u00e1rea de TI da empresa, n\\u00e9? Isso \\u00e9 certo. O e-mail continua sendo b prata arroba pontocom. Positivo, certo? Obrigada pelas confirma\\u00e7\\u00f5es. Iniciando a nossa avalia\\u00e7\\u00e3o, ela \\u00e9 uma avalia\\u00e7\\u00e3o bem r\\u00e1pida, numa escala de 0 a 10, qual a probabilidade do senhor recomendar a Totvs a um amigo ou colega hoje? Nove. Certo. Gostaria de me informar sobre o motivo da sua nota ou n\\u00e3o. N\\u00e3o estou tranquilo, certo? Certo. Eu vou fazer agora algumas perguntas direcionadas. Aonde voc\\u00ea vai me responder a nota de 0 a 10? N\\u00e3o precisa falar o motivo da sua nota e tamb\\u00e9m n\\u00e3o precisa responder caso voc\\u00ea n\\u00e3o tenha o contato direto com a \\u00e1rea, tudo bem. Tudo bem. Em rela\\u00e7\\u00e3o a agilidade nos processos do suporte t\\u00e9cnico, uma nota de 0 a 10. Nove. Certo Em rela\\u00e7\\u00e3o ao atendimento do agente do suporte t\\u00e9cnico? Norma o atendimento do executivo de vendas, Eu n\\u00e3o tenho acesso a ele. Certo. A sua satisfa\\u00e7\\u00e3o com o custo dos produtos contratados tamb\\u00e9m n\\u00e3o. Essa parte n\\u00e3o \\u00e9 comigo. Certo? O atendimento do administrativo financeiro da Totvs tamb\\u00e9m n\\u00e3o \\u00e9 comigo. Certo \\u00e9 a sua satisfa\\u00e7\\u00e3o com a implanta\\u00e7\\u00e3o do software ou de algum m\\u00f3dulo. Caso voc\\u00ea tenha participado. N\\u00e3o, eu n\\u00e3o participei. Certo, Voc\\u00ea acha que hoje o produto da Totvs entrega o benef\\u00edcio esperado pela empresa ou pelo seu departamento? Tem a op\\u00e7\\u00e3o de entrega total, parcial ou n\\u00e3o entrega? Ent\\u00e3o, essa parte a\\u00ed tamb\\u00e9m. Como eu sou da \\u00e1rea de TI, n\\u00e9? Mas entrega, coloca assim. Certo Tamb\\u00e9m de 0 a 10, como que foi a sua experi\\u00eancia com a \\u00faltima atualiza\\u00e7\\u00e3o do software? Caso voc\\u00eas tenham feito essa atualiza\\u00e7\\u00e3o ou voc\\u00ea tenha notado algo de diferente no sistema de 0 a 10? N\\u00e3o, a gente n\\u00e3o fez, certo. E a \\u00faltima nota Bruno que seria em rela\\u00e7\\u00e3o a uma unidade que faz atendimento com voc\\u00eas a todos. Rio de Janeiro de 0 a dez. Voc\\u00ea gostaria de atribuir uma nota caso tenha contato? N\\u00e3o, n\\u00e3o tenho contato. Certo De tudo isso que eu lhe perguntei, voc\\u00ea gostaria de acrescentar algum ponto e teria como passar essa? Voc\\u00ea falou que a unidade que faz atendimento para gente no Rio de Janeiro, Como que \\u00e9 isso? Sabe explicar? E aqui para mim, ela aparece como todos Rio de Janeiro, que seria a unidade que faz o atendimento com voc\\u00eas em alguma coisa emergencial, quando acontece alguma falha no sistema? Sim, mas caso n\\u00e3o seja essa unidade, a gente consegue fazer essa troca por aqui. A\\u00ed, a pr\\u00f3xima vez, quando a gente retornar o contato com voc\\u00eas, a\\u00ed j\\u00e1 vai a unidade certa. N\\u00e3o, n\\u00e3o, t\\u00e1 tranquilo. \\u00c9 isso mesmo. S\\u00f3 queria ter certeza a certo. E voc\\u00ea, ficou com mais alguma d\\u00favida? N\\u00e3o. S\\u00f3 isso. T\\u00e1 bom ent\\u00e3o. Bruno, muito obrigada pela sua participa\\u00e7\\u00e3o e tenha uma \\u00f3tima tarde. Falou tchau, tchau, tchau, tchau.\",\n          \"Al\\u00f4, boa tarde. Boa tarde. Fala com o senhor Cl\\u00f3vis Gentili. Sim, Cl\\u00f3vis, me chamo Beatriz. Fala pra todos. Tudo bem? Tudo bem? Que bom! Voc\\u00ea gostaria de falar com o senhor? O senhor seria o respons\\u00e1vel da CGC atacadista, n\\u00e9? \\u00c9 bem r\\u00e1pido meu contato, senhor Cl\\u00f3vis, eu preciso s\\u00f3 fazer um acompanhamento pra saber como t\\u00e1 a experi\\u00eancia e a satisfa\\u00e7\\u00e3o de voc\\u00eas. Esse acompanhamento dura dois minutinhos no m\\u00e1ximo. \\u00c9 feito pelo m\\u00e9todo de NPS. Tudo bem, tudo bem. T\\u00e1. O senhor vai avaliar somente de 0A10A marca Totem. Alguns pontos que eu vou perguntar. T\\u00e1. Vou confirmar o CNPJ. CNPJ 19 705 oito tr\\u00eas zero 1000 contra quatro dois Ok. Ok. Obrigada pela confirma\\u00e7\\u00e3o, senhor Cl\\u00f3vis. Numa escala de 0 a 10, qual a probabilidade do senhor recomendar a TOTVS a um amigo ou colega hoje? Tem algum coment\\u00e1rio que o senhor gostaria de deixar sobre a nota? N\\u00e3o. Ent\\u00e3o, para a gente aprofundar um pouco mais na melhoria, agora eu vou falar os pontos espec\\u00edficos e pe\\u00e7o que o senhor avalie tamb\\u00e9m somente de 0 a 10, caso tenha contato. T\\u00e1 falando do suporte t\\u00e9cnico. Como o senhor avalia a agilidade nos processos do suporte hoje demorado de 0 a 10? Quanto? Zero cinco T\\u00e1 falando em rela\\u00e7\\u00e3o ao atendimento dos agentes do suporte em geral, n\\u00e9? Oito Falando em rela\\u00e7\\u00e3o ao comercial, o atendimento do executivo de vendas de voc\\u00eas. Oito Falando dos custos e valores dos produtos contratados. Sete Atendimento do financeiro referente a boletos e negocia\\u00e7\\u00f5es, caso precisem. Um ponto que n\\u00e3o precisamos colocar hoje a satisfa\\u00e7\\u00e3o com a implanta\\u00e7\\u00e3o do software Esteve na implanta\\u00e7\\u00e3o? Sim. Como foi De 0 a 10? Oito. T\\u00e1, hoje o sistema. Ele entrega o benef\\u00edcio que voc\\u00eas precisam. Entrega totalmente, parcialmente ou n\\u00e3o entrega? Parcialmente. Como foi a experi\\u00eancia do senhor com a atualiza\\u00e7\\u00e3o do software Zera tamb\\u00e9m? Caso tenha atualizado? Sete. Sete Para a gente finalizar, pe\\u00e7o que o senhor avalie tamb\\u00e9m de zero a dez o atendimento realizado pela Totus Unidade respons\\u00e1vel por voc\\u00eas do Mato Grosso. O senhor tem contato? Sete Essas as perguntas, senhor Cl\\u00f3vis. O senhor tem algum coment\\u00e1rio final? Mais algum ponto? N\\u00e3o, n\\u00e3o t\\u00e1. Esse acompanhamento ele ocorre num per\\u00edodo de seis meses a um ano. T\\u00e1. Ent\\u00e3o, passando o per\\u00edodo, retornaremos o contato. Tudo bem? Tudo bem, Obrigado. Eu agrade\\u00e7o. Tenha uma \\u00f3tima tarde. Tchau Tchau. Tchau. Tchau.\",\n          \"Cl\\u00f3vis. Global Silvia. Oi, Silvia, boa tarde. Eu gostaria de falar com o Robson da Departamento Pessoal Momento. Quem vai falar \\u00e9 Lilia, da empresa Totvs da TOTVS. Aguarda s\\u00f3 um momento. Lilian Aguardo. Obrigada. I get. It out. N\\u00e3o. Vale mais a pena. Al\\u00e9m do. Mais. O momento. Horripilante, Na realidade. S\\u00f3 mais um momento. And I can. You think you to know how I can you will you? Know how aqui. Don't tell a self. Voc\\u00ea n\\u00e3o prefere me retornar daqui uns cinco minutos? RETORNO Sim. Obrigada. Obrigada. Tchau.\"\n        ],\n        \"semantic_type\": \"\",\n        \"description\": \"\"\n      }\n    },\n    {\n      \"column\": \"Atendeu?\",\n      \"properties\": {\n        \"dtype\": \"category\",\n        \"num_unique_values\": 2,\n        \"samples\": [\n          \"N\\u00e3o\",\n          \"Sim\"\n        ],\n        \"semantic_type\": \"\",\n        \"description\": \"\"\n      }\n    },\n    {\n      \"column\": \"Empresa\",\n      \"properties\": {\n        \"dtype\": \"string\",\n        \"num_unique_values\": 54,\n        \"samples\": [\n          \"Cl\\u00f3vis. Global Silvia\",\n          \"Piazza Navona\"\n        ],\n        \"semantic_type\": \"\",\n        \"description\": \"\"\n      }\n    },\n    {\n      \"column\": \"Atendente\",\n      \"properties\": {\n        \"dtype\": \"category\",\n        \"num_unique_values\": 9,\n        \"samples\": [\n          \" Beatriz\",\n          \"Viviane\"\n        ],\n        \"semantic_type\": \"\",\n        \"description\": \"\"\n      }\n    },\n    {\n      \"column\": \"Recomenda\\u00e7\\u00e3o TOTVS\",\n      \"properties\": {\n        \"dtype\": \"category\",\n        \"num_unique_values\": 8,\n        \"samples\": [\n          \"6.0\",\n          \"8.0\"\n        ],\n        \"semantic_type\": \"\",\n        \"description\": \"\"\n      }\n    },\n    {\n      \"column\": \"Suporte \",\n      \"properties\": {\n        \"dtype\": \"category\",\n        \"num_unique_values\": 10,\n        \"samples\": [\n          \"4.0\",\n          \"N/A\"\n        ],\n        \"semantic_type\": \"\",\n        \"description\": \"\"\n      }\n    },\n    {\n      \"column\": \"Atendimento agente\",\n      \"properties\": {\n        \"dtype\": \"category\",\n        \"num_unique_values\": 8,\n        \"samples\": [\n          \"N/A\",\n          \"0.0\"\n        ],\n        \"semantic_type\": \"\",\n        \"description\": \"\"\n      }\n    },\n    {\n      \"column\": \"Executivo de Vendas/ Administrativo e financeiro\",\n      \"properties\": {\n        \"dtype\": \"category\",\n        \"num_unique_values\": 7,\n        \"samples\": [\n          \"8.0\",\n          \"N/A\"\n        ],\n        \"semantic_type\": \"\",\n        \"description\": \"\"\n      }\n    },\n    {\n      \"column\": \"Custos e valores\",\n      \"properties\": {\n        \"dtype\": \"category\",\n        \"num_unique_values\": 10,\n        \"samples\": [\n          \"0.0\",\n          \"N/A\"\n        ],\n        \"semantic_type\": \"\",\n        \"description\": \"\"\n      }\n    },\n    {\n      \"column\": \"Implanta\\u00e7\\u00e3o Software\",\n      \"properties\": {\n        \"dtype\": \"category\",\n        \"num_unique_values\": 6,\n        \"samples\": [\n          \"8.0\",\n          \"N/A\"\n        ],\n        \"semantic_type\": \"\",\n        \"description\": \"\"\n      }\n    },\n    {\n      \"column\": \"Entrega Servi\\u00e7o\",\n      \"properties\": {\n        \"dtype\": \"category\",\n        \"num_unique_values\": 3,\n        \"samples\": [\n          \"Parcialmente\",\n          \"N/A\"\n        ],\n        \"semantic_type\": \"\",\n        \"description\": \"\"\n      }\n    },\n    {\n      \"column\": \"Atualiza\\u00e7\\u00e3o Software\",\n      \"properties\": {\n        \"dtype\": \"category\",\n        \"num_unique_values\": 10,\n        \"samples\": [\n          \"0.0\",\n          \"N/A\"\n        ],\n        \"semantic_type\": \"\",\n        \"description\": \"\"\n      }\n    },\n    {\n      \"column\": \"Nota Unidade\",\n      \"properties\": {\n        \"dtype\": \"category\",\n        \"num_unique_values\": 8,\n        \"samples\": [\n          \"N/A\",\n          \"9.0\"\n        ],\n        \"semantic_type\": \"\",\n        \"description\": \"\"\n      }\n    }\n  ]\n}"
            }
          },
          "metadata": {},
          "execution_count": 19
        }
      ]
    },
    {
      "cell_type": "code",
      "source": [
        "df3.shape"
      ],
      "metadata": {
        "colab": {
          "base_uri": "https://localhost:8080/"
        },
        "id": "KLYvQh_1KZRk",
        "outputId": "41625bb9-dc14-494f-d495-ee2a64e8e2aa"
      },
      "execution_count": 20,
      "outputs": [
        {
          "output_type": "execute_result",
          "data": {
            "text/plain": [
              "(80, 14)"
            ]
          },
          "metadata": {},
          "execution_count": 20
        }
      ]
    },
    {
      "cell_type": "code",
      "source": [
        "df3['Transcrição']"
      ],
      "metadata": {
        "colab": {
          "base_uri": "https://localhost:8080/",
          "height": 459
        },
        "id": "xVJnJk3BKdka",
        "outputId": "4965455b-a137-4ec2-a31d-d6d1c7e676f1"
      },
      "execution_count": 21,
      "outputs": [
        {
          "output_type": "execute_result",
          "data": {
            "text/plain": [
              "0     Alô, boa tarde. Boa tarde. Fala com o senhor C...\n",
              "1     Plastico Lojas BR. Boa tarde! Boa tarde. Meu n...\n",
              "2     Eu tenho o Bourbon. Lorena, boa tarde. Boa tar...\n",
              "3     Alô, Alô, Bom dia. Leandro Eu novamente. Tudo ...\n",
              "4     Edson Paulista. João Paulo. Bom dia. Bom dia! ...\n",
              "                            ...                        \n",
              "75    Boa tarde! Boa tarde Lilia da empresa TOTVS eu...\n",
              "76    Alô, Carneiro, bom dia! Bom dia Beatriz Da fot...\n",
              "77    Alô, Alô, Alô, Boa tarde! Boa tarde, Azevedo. ...\n",
              "78    Hotel Ibis em São Carlos. Silvana, bom dia! Bo...\n",
              "79    Galli. Boa tarde. Boa tarde. Meu nome é Vivian...\n",
              "Name: Transcrição, Length: 80, dtype: object"
            ],
            "text/html": [
              "<div>\n",
              "<style scoped>\n",
              "    .dataframe tbody tr th:only-of-type {\n",
              "        vertical-align: middle;\n",
              "    }\n",
              "\n",
              "    .dataframe tbody tr th {\n",
              "        vertical-align: top;\n",
              "    }\n",
              "\n",
              "    .dataframe thead th {\n",
              "        text-align: right;\n",
              "    }\n",
              "</style>\n",
              "<table border=\"1\" class=\"dataframe\">\n",
              "  <thead>\n",
              "    <tr style=\"text-align: right;\">\n",
              "      <th></th>\n",
              "      <th>Transcrição</th>\n",
              "    </tr>\n",
              "  </thead>\n",
              "  <tbody>\n",
              "    <tr>\n",
              "      <th>0</th>\n",
              "      <td>Alô, boa tarde. Boa tarde. Fala com o senhor C...</td>\n",
              "    </tr>\n",
              "    <tr>\n",
              "      <th>1</th>\n",
              "      <td>Plastico Lojas BR. Boa tarde! Boa tarde. Meu n...</td>\n",
              "    </tr>\n",
              "    <tr>\n",
              "      <th>2</th>\n",
              "      <td>Eu tenho o Bourbon. Lorena, boa tarde. Boa tar...</td>\n",
              "    </tr>\n",
              "    <tr>\n",
              "      <th>3</th>\n",
              "      <td>Alô, Alô, Bom dia. Leandro Eu novamente. Tudo ...</td>\n",
              "    </tr>\n",
              "    <tr>\n",
              "      <th>4</th>\n",
              "      <td>Edson Paulista. João Paulo. Bom dia. Bom dia! ...</td>\n",
              "    </tr>\n",
              "    <tr>\n",
              "      <th>...</th>\n",
              "      <td>...</td>\n",
              "    </tr>\n",
              "    <tr>\n",
              "      <th>75</th>\n",
              "      <td>Boa tarde! Boa tarde Lilia da empresa TOTVS eu...</td>\n",
              "    </tr>\n",
              "    <tr>\n",
              "      <th>76</th>\n",
              "      <td>Alô, Carneiro, bom dia! Bom dia Beatriz Da fot...</td>\n",
              "    </tr>\n",
              "    <tr>\n",
              "      <th>77</th>\n",
              "      <td>Alô, Alô, Alô, Boa tarde! Boa tarde, Azevedo. ...</td>\n",
              "    </tr>\n",
              "    <tr>\n",
              "      <th>78</th>\n",
              "      <td>Hotel Ibis em São Carlos. Silvana, bom dia! Bo...</td>\n",
              "    </tr>\n",
              "    <tr>\n",
              "      <th>79</th>\n",
              "      <td>Galli. Boa tarde. Boa tarde. Meu nome é Vivian...</td>\n",
              "    </tr>\n",
              "  </tbody>\n",
              "</table>\n",
              "<p>80 rows × 1 columns</p>\n",
              "</div><br><label><b>dtype:</b> object</label>"
            ]
          },
          "metadata": {},
          "execution_count": 21
        }
      ]
    },
    {
      "cell_type": "markdown",
      "source": [
        "# Normalização das transcrições"
      ],
      "metadata": {
        "id": "5IcS3JlVMmk4"
      }
    },
    {
      "cell_type": "code",
      "source": [
        "df3['Transcrição'].str.len().sum()"
      ],
      "metadata": {
        "colab": {
          "base_uri": "https://localhost:8080/"
        },
        "id": "unG2b7mpKfdq",
        "outputId": "8918d4e3-e3e8-4c57-89a4-20df370d2a22"
      },
      "execution_count": 22,
      "outputs": [
        {
          "output_type": "execute_result",
          "data": {
            "text/plain": [
              "219713"
            ]
          },
          "metadata": {},
          "execution_count": 22
        }
      ]
    },
    {
      "cell_type": "code",
      "source": [
        "'palavra'.isalpha()\n",
        "# '1'.isalpha()"
      ],
      "metadata": {
        "colab": {
          "base_uri": "https://localhost:8080/"
        },
        "id": "WX2FKcJmKiRq",
        "outputId": "84ae3478-2fa9-4760-f26a-e78580274f10"
      },
      "execution_count": 24,
      "outputs": [
        {
          "output_type": "execute_result",
          "data": {
            "text/plain": [
              "True"
            ]
          },
          "metadata": {},
          "execution_count": 24
        }
      ]
    },
    {
      "cell_type": "code",
      "source": [
        "def separa_palavras(lista_tokens):\n",
        "    lista_palavras = []\n",
        "    for token in lista_tokens:\n",
        "      if token.isalpha():\n",
        "        lista_palavras.append(token)\n",
        "    return lista_palavras"
      ],
      "metadata": {
        "id": "xajtxGBaKq99"
      },
      "execution_count": 25,
      "outputs": []
    },
    {
      "cell_type": "code",
      "source": [
        "lista_tokens = nltk.tokenize.word_tokenize(df3['Transcrição'].str.cat(sep=' '))\n",
        "lista_palavras = separa_palavras(lista_tokens)\n",
        "print(len(lista_palavras))"
      ],
      "metadata": {
        "colab": {
          "base_uri": "https://localhost:8080/"
        },
        "id": "NPp1lje4KtdV",
        "outputId": "288fe3da-d286-4127-8276-a467c780e13c"
      },
      "execution_count": 26,
      "outputs": [
        {
          "output_type": "stream",
          "name": "stdout",
          "text": [
            "38132\n"
          ]
        }
      ]
    },
    {
      "cell_type": "code",
      "source": [
        "print(lista_palavras[:5])"
      ],
      "metadata": {
        "colab": {
          "base_uri": "https://localhost:8080/"
        },
        "id": "2RFmBtRjKvug",
        "outputId": "9a8672d4-6c96-4071-b199-709b421b0be0"
      },
      "execution_count": 27,
      "outputs": [
        {
          "output_type": "stream",
          "name": "stdout",
          "text": [
            "['Alô', 'boa', 'tarde', 'Boa', 'tarde']\n"
          ]
        }
      ]
    },
    {
      "cell_type": "code",
      "source": [
        "def normalizacao(lista_palavras):\n",
        "    lista_normalizada = []\n",
        "    for palavra in lista_palavras:\n",
        "      lista_normalizada.append(palavra.lower())\n",
        "    return lista_normalizada\n",
        "\n",
        "lista_normalizada = normalizacao(lista_palavras)\n",
        "print(lista_normalizada[:5])"
      ],
      "metadata": {
        "colab": {
          "base_uri": "https://localhost:8080/"
        },
        "id": "-2M9WHKWKyJt",
        "outputId": "fdb343a2-03b1-4dfb-f074-d791c0b5e275"
      },
      "execution_count": 28,
      "outputs": [
        {
          "output_type": "stream",
          "name": "stdout",
          "text": [
            "['alô', 'boa', 'tarde', 'boa', 'tarde']\n"
          ]
        }
      ]
    },
    {
      "cell_type": "code",
      "source": [
        "len(set(lista_normalizada))"
      ],
      "metadata": {
        "colab": {
          "base_uri": "https://localhost:8080/"
        },
        "id": "I2u8BBBdK06H",
        "outputId": "2857a169-b21b-4490-e754-24c05409f1c7"
      },
      "execution_count": 29,
      "outputs": [
        {
          "output_type": "execute_result",
          "data": {
            "text/plain": [
              "2642"
            ]
          },
          "metadata": {},
          "execution_count": 29
        }
      ]
    },
    {
      "cell_type": "code",
      "source": [
        "df3.to_csv('transcricoes_completas.csv', index=False)"
      ],
      "metadata": {
        "id": "q3NxS6GTK3TS"
      },
      "execution_count": 30,
      "outputs": []
    },
    {
      "cell_type": "code",
      "source": [],
      "metadata": {
        "id": "ElEk-UhtK--G"
      },
      "execution_count": null,
      "outputs": []
    }
  ]
}