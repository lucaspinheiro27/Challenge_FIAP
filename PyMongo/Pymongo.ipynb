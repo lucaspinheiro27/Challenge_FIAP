{
  "nbformat": 4,
  "nbformat_minor": 0,
  "metadata": {
    "colab": {
      "provenance": []
    },
    "kernelspec": {
      "name": "python3",
      "display_name": "Python 3"
    },
    "language_info": {
      "name": "python"
    }
  },
  "cells": [
    {
      "cell_type": "markdown",
      "source": [
        "#Importar bibliotecas necessárias"
      ],
      "metadata": {
        "id": "AfjoVyXwykpa"
      }
    },
    {
      "cell_type": "code",
      "source": [
        "!pip install -r requirements.txt"
      ],
      "metadata": {
        "colab": {
          "base_uri": "https://localhost:8080/"
        },
        "id": "PiOafy4OwhZ_",
        "outputId": "ab34c696-88ba-4306-8a38-152ae7980df6"
      },
      "execution_count": 33,
      "outputs": [
        {
          "output_type": "stream",
          "name": "stdout",
          "text": [
            "Requirement already satisfied: python-dotenv in /usr/local/lib/python3.10/dist-packages (from -r requirements.txt (line 1)) (1.0.1)\n",
            "Requirement already satisfied: pymongo in /usr/local/lib/python3.10/dist-packages (from -r requirements.txt (line 2)) (4.8.0)\n",
            "Requirement already satisfied: PyPDF2 in /usr/local/lib/python3.10/dist-packages (from -r requirements.txt (line 3)) (3.0.1)\n",
            "Requirement already satisfied: fpdf in /usr/local/lib/python3.10/dist-packages (from -r requirements.txt (line 4)) (1.7.2)\n",
            "Requirement already satisfied: dnspython<3.0.0,>=1.16.0 in /usr/local/lib/python3.10/dist-packages (from pymongo->-r requirements.txt (line 2)) (2.6.1)\n"
          ]
        }
      ]
    },
    {
      "cell_type": "code",
      "source": [
        "from pymongo import MongoClient\n",
        "import os\n",
        "from fpdf import FPDF\n",
        "from PyPDF2 import PdfFileMerger\n",
        "from dotenv import load_dotenv, dotenv_values"
      ],
      "metadata": {
        "id": "PsHh34uHuZw8"
      },
      "execution_count": 34,
      "outputs": []
    },
    {
      "cell_type": "markdown",
      "source": [
        "#Conectar ao Mongodb Client"
      ],
      "metadata": {
        "id": "Y7ntZGKxysmK"
      }
    },
    {
      "cell_type": "code",
      "source": [
        "load_dotenv()\n",
        "# print(os.getenv(\"conn_str\"))"
      ],
      "metadata": {
        "colab": {
          "base_uri": "https://localhost:8080/"
        },
        "id": "R2VQmK68qTLZ",
        "outputId": "83bfec6f-baf4-429a-91a6-ea911d6db995"
      },
      "execution_count": 35,
      "outputs": [
        {
          "output_type": "execute_result",
          "data": {
            "text/plain": [
              "True"
            ]
          },
          "metadata": {},
          "execution_count": 35
        }
      ]
    },
    {
      "cell_type": "code",
      "source": [
        "conn_str = os.getenv(\"conn_str\")\n",
        "\n",
        "try:\n",
        "    client = MongoClient(conn_str)\n",
        "    print(\"Connected to MongoDB successfully!\")\n",
        "except Exception as e:\n",
        "    print(f\"Error: {e}\")"
      ],
      "metadata": {
        "colab": {
          "base_uri": "https://localhost:8080/"
        },
        "id": "OKLTX5SKvhJu",
        "outputId": "e7fb2ba2-df37-434a-d2f0-eaf06f89c8ad"
      },
      "execution_count": 36,
      "outputs": [
        {
          "output_type": "stream",
          "name": "stdout",
          "text": [
            "Connected to MongoDB successfully!\n"
          ]
        }
      ]
    },
    {
      "cell_type": "markdown",
      "source": [
        "#Acessar a base de dados e collections"
      ],
      "metadata": {
        "id": "xI5NWRtZywYW"
      }
    },
    {
      "cell_type": "code",
      "source": [
        "db = client[\"Cluster\"]\n",
        "collection = db[\"Audios\"]\n",
        "\n",
        "db.list_collection_names()"
      ],
      "metadata": {
        "colab": {
          "base_uri": "https://localhost:8080/"
        },
        "id": "AlcyO1hAvhHX",
        "outputId": "f403a38a-eb21-404c-f9fd-4071281cd626"
      },
      "execution_count": 37,
      "outputs": [
        {
          "output_type": "execute_result",
          "data": {
            "text/plain": [
              "['Audios']"
            ]
          },
          "metadata": {},
          "execution_count": 37
        }
      ]
    },
    {
      "cell_type": "markdown",
      "source": [
        "#Tranformar a base de transcrições em txt"
      ],
      "metadata": {
        "id": "1q3LQt8Cy4tp"
      }
    },
    {
      "cell_type": "code",
      "source": [
        "transcriptions = collection.find({}, {\"transcription\": 1, \"_id\": 0})"
      ],
      "metadata": {
        "id": "2Mr2iUrovhEk"
      },
      "execution_count": 38,
      "outputs": []
    },
    {
      "cell_type": "code",
      "source": [
        "os.makedirs('data', exist_ok=True)\n",
        "for idx, transcription in enumerate(transcriptions):\n",
        "    print(f\"Transcription {idx}: {transcription['transcription']}\")\n",
        "    with open(f\"data/transcription_{idx}.txt\", \"w\") as f:\n",
        "        f.write(transcription[\"transcription\"])"
      ],
      "metadata": {
        "colab": {
          "base_uri": "https://localhost:8080/"
        },
        "id": "5Bu8ly4MvFfy",
        "outputId": "7eaaf741-cbfd-49e7-c659-e8660278e9ff"
      },
      "execution_count": 39,
      "outputs": [
        {
          "output_type": "stream",
          "name": "stdout",
          "text": [
            "Transcription 0:  Burbom Hotel Fortaleza, Satiko, boa tarde. Boa tarde, é a Lívia da Tótus, ou seu Valtemberg? Valtemberg? Isso. Ok, só um minutinho. Obrigada. Por nada. Seja muito bem-vindo ao Burbom Hotel. Controladoria Lucas. Boa tarde, é a Lívia da Tótus novamente, o Valtemberg já saiu da reunião? Sim, sim, só um momento, vou transferir aqui pra ele. Obrigada. Você será atendido. Já conhece o programa de férias Burbom Destination Club? Com ele você vive experiências fantásticas e as noites... Burbom Fortaleza, Valtemberg, boa tarde. Olá, Valtemberg, boa tarde, é a Lívia da empresa Tótus, tudo bem? Oi, Lívia, tudo bem. Que ótimo, eu sou do departamento Voz do Cliente, eu tô ligando pra fazer o NPS, que é uma avaliação geral, tô ligando pra todos os hotéis do Burbom. Perfeito. Você teria dois minutos no momento? Sim, pode ser. Ok, só vou confirmar o final do CNPJ, Hotel Burbom Fortaleza, é o final 1 contra 6 a 2? Correto. Ok, iniciando então, de uma escala de 0 a 10, qual a probabilidade do senhor recomendar a marca Tótus a alguém hoje no geral? 10. 10. As demais perguntas, se o senhor não tiver acesso, porque a gente sabe que é sempre a matriz que tem mais, só pular. Suporte técnico ou uma nota pra agilidade nos processos? Isso é 0 a 10? 0 a 10. 8. 8. E o atendimento em si dos agentes? 10. Atendimento do comercial executivo de vendas? Eu não tenho relacionamento. Aham. Custos e os valores dos produtos contratados nesse hotel? 8. 8. Atendimento administrativo e financeiro? 9. 9. Se o senhor participou da implantação, uma nota? Não, não participei. Mais três perguntas. O programa que vocês estão usando atende a necessidade total? Atende parcialmente? Parcial ou não atende? Total. Total. Uma nota para as atualizações? 10. E última pergunta, pra avaliar a unidade Tótus e Mnet soluções? 10 também. 10? Certo. Gostaria de deixar algum comentário, sugestão, reclamação, elogio? Não, acho que não. Acho que tá contento, né, dentro do que a gente tá trabalhando. Ótimo. Então tá bom. Vou confirmar o e-mail. Valtemberg.Silva.org.br Valtemberg.Silva.org.br Valtemberg.Silva.org.br Valtemberg.Silva.org.br Valtemberg.Silva.org.br Correto. Ok. De seis meses a um, a gente volta a se falar pra manter o relacionamento. Obrigada. Combinado. Um ótimo final de semana. Tchau, tchau. Igualmente pra você. Até logo. Obrigada. Obrigada.\n",
            "Transcription 1:  Boa tarde Liliane, meu nome é Viviane, eu falo aqui da TOTOS Matriz, tudo bem? Tudo bom Viviane. Eu gostaria por favor de falar com o Hélio. Ah sim, Viviane da TOTOS. TOTOS Matriz. Só mentindo. Tudo bem. Alô. Boa tarde, meu nome é Viviane, eu falo aqui da TOTOS Matriz, tudo bem? Tudo jóia. Eu falo com o Hélio? Isso. Hélio, eu estou entrando em contato com você para a gente fazer um rápido acompanhamento em relação a marca TOTOS que vocês utilizam hoje na empresa e no seu negócio. Hélio, eu estou aqui no departamento, você teria dois minutinhos para falar comigo? No momento eu estou bastante ocupado, seria só dois minutos mesmo? Sim, não, a pesquisa é bem rápida, só são algumas perguntas de zero a dez para a gente verificar como está a usabilidade e se vocês estão sendo bem atendidos. Tá, pode ser então. Certo, eu só vou fazer algumas confirmações por questões de segurança. O seu nome completo é Hélio Luiz Rodrigues e atualmente o senhor é um dos responsáveis pela área... É a área de TI da empresa, né? Isso, exatamente. Certo, o e-mail continua sendo ti.casajoca.com.br? Sim. Certo, obrigada pelas confirmações. Iniciando a nossa avaliação, numa escala de zero a dez, qual a probabilidade do senhor recomendar a TOTOS a um amigo ou colega hoje? Sete. Certo, gostaria de me informar o motivo da sua nota ou não? Não. Certo, eu vou fazer agora algumas perguntas rápidas, onde você só vai me informar também a nota de zero a dez. Não precisa falar o motivo e nem responder caso não tenha um contato com a área, tudo bem? Tá, jóia. Em relação à agilidade nos processos do suporte, uma nota de zero a dez? Sete. Certo, em relação ao atendimento do agente do suporte? Oito. Certo, o atendimento do executivo de vendas da TOTOS? Não tenho conhecimento. Certo, a sua satisfação com o custo dos produtos contratados? Não tenho conhecimento. Certo, e a satisfação com... A implantação do software, caso você tenha participado? Não tenho participação também. Certo, você acha que hoje o produto da TOTOS entrega o benefício esperado pela empresa ou pelo seu departamento? Tem a opção de entrega total, parcial ou não entrega? Parcial. Certo, também de zero a dez, como que foi a sua experiência com a última atualização do software, caso vocês tenham feito a sua atualização de zero a dez? Não tive participação. Certo, e a última nota que seria em relação... Qual é a unidade que faz o atendimento com vocês hoje, também de zero a dez? Como que você avalia a TOTOS SudMinas, caso tenha contato? Não tenho contato. Certo, no caso, Hélio, nós estamos entrando em contato mesmo, realizando esse acompanhamento, justamente para termos as nossas melhorias contínuas. No prazo de seis meses a um ano, a gente vai retornar o contato com você e verificar se teve alguma alteração na nota, tudo bem? Ok. Posso te fazer uma pergunta? Claro, pode falar. Vocês teriam algum consultor para indicar que a gente possa entrar em contato para a atualização do sistema? Olha, aqui a gente não consegue dar esse telefone desse consultor, porque a gente não tem acesso a essas informações, mas se você quiser eu posso passar o telefone do executivo de vendas que ele consegue verificar para você. Pode me passar, por favor? Sim, claro, só um momento. Ó, tem o Sidney e tem o Diogo. O telefone do Sidney é o DDD11-4301-915. E o outro é o Diogo, certo? Isso, o DDD é 11-9-9507. Uhum. 63-68. O primeiro telefone é fixo e o segundo é o celular. Tanto em um quanto outro você consegue contato com eles. Certo. Eles são da parte de consultoria? É, o Sidney ele é o executivo de vendas e o Diogo Bandeira ele é o executivo de contas. Tá. Tudo bem? Certo, certinho então. Tá bom então. Ficou com mais alguma dúvida? Não, não. Não, era só isso mesmo. Tá bom então. Muito obrigada pela sua participação, Eli. Tenha uma ótima tarde e um bom final de semana. Joia, obrigado pra você também. Obrigada, tchau, tchau. Tchau, tchau. Tchau.\n"
          ]
        }
      ]
    },
    {
      "cell_type": "markdown",
      "source": [
        "#Transformar os arquivos txt em PDF"
      ],
      "metadata": {
        "id": "n7Pc0pfyy_EA"
      }
    },
    {
      "cell_type": "code",
      "source": [
        "os.makedirs('data2', exist_ok=True)"
      ],
      "metadata": {
        "id": "fcwm1Hi8uZuW"
      },
      "execution_count": 40,
      "outputs": []
    },
    {
      "cell_type": "code",
      "source": [
        "def create_pdf_from_txt(txt_file, output_dir):\n",
        "\n",
        "    pdf = FPDF()\n",
        "    pdf.add_page()\n",
        "    pdf.set_font(\"Arial\", size=12)\n",
        "\n",
        "\n",
        "    with open(txt_file, \"r\", encoding=\"utf-8\") as f:\n",
        "        for line in f:\n",
        "            pdf.multi_cell(0, 10, txt=line.strip())\n",
        "\n",
        "\n",
        "    pdf_filename = os.path.splitext(os.path.basename(txt_file))[0] + \".pdf\"\n",
        "    output_path = os.path.join(output_dir, pdf_filename)\n",
        "\n",
        "\n",
        "    pdf.output(output_path)\n",
        "    print(f'PDF criado em: {output_path}')\n",
        "\n",
        "input_directory = '/content/data'\n",
        "\n",
        "output_directory = '/content/data2'\n",
        "\n",
        "os.makedirs(output_directory, exist_ok=True)\n",
        "\n",
        "for filename in os.listdir(input_directory):\n",
        "    if filename.endswith(\".txt\"):\n",
        "        filepath = os.path.join(input_directory, filename)\n",
        "        create_pdf_from_txt(filepath, output_directory)\n"
      ],
      "metadata": {
        "colab": {
          "base_uri": "https://localhost:8080/"
        },
        "id": "vs_NCgV4uZsO",
        "outputId": "b3297cda-b971-41cc-c01d-dc53aa138b13"
      },
      "execution_count": 41,
      "outputs": [
        {
          "output_type": "stream",
          "name": "stdout",
          "text": [
            "PDF criado em: /content/data2/transcription_0.pdf\n",
            "PDF criado em: /content/data2/transcription_1.pdf\n"
          ]
        }
      ]
    },
    {
      "cell_type": "markdown",
      "source": [
        "* Opção de acessar um arquivo de cada vez"
      ],
      "metadata": {
        "id": "EoLo451GzGZ-"
      }
    },
    {
      "cell_type": "code",
      "source": [
        "# from fpdf import FPDF\n",
        "# pdf = FPDF()\n",
        "# # Add a page\n",
        "# pdf.add_page()\n",
        "# # set style and size of font\n",
        "# # that you want in the pdf\n",
        "# pdf.set_font(\"Arial\", size = 15)\n",
        "# # open the text file in read mode\n",
        "# f = open(\"/content/data/transcription_0.txt\", \"r\")\n",
        "# # insert the texts in pdf\n",
        "# for x in f:\n",
        "#     pdf.multi_cell(0, 10, txt = x,align = 'C')\n",
        "# # save the pdf with name .pdf\n",
        "# pdf.output(\"/content/data2/File_name.pdf\")"
      ],
      "metadata": {
        "id": "TT6Rk4VGuZpm"
      },
      "execution_count": 42,
      "outputs": []
    },
    {
      "cell_type": "markdown",
      "source": [
        "# Query no banco de dados Mongodb"
      ],
      "metadata": {
        "id": "Vux558g_zUvi"
      }
    },
    {
      "cell_type": "code",
      "source": [
        "query = {\"file_name\": '2968253.wav'}\n",
        "projection = {\"transcription\": 1, \"_id\": 0}  # 1 inclui, 0 exclui\n",
        "\n",
        "for transcricao in collection.find(query, projection):\n",
        "    print(transcricao)"
      ],
      "metadata": {
        "colab": {
          "base_uri": "https://localhost:8080/"
        },
        "id": "nSeCcOFAuZk8",
        "outputId": "a0e81c09-ddeb-4e86-8ae6-4e56a606f1fd"
      },
      "execution_count": 43,
      "outputs": [
        {
          "output_type": "stream",
          "name": "stdout",
          "text": [
            "{'transcription': ' Burbom Hotel Fortaleza, Satiko, boa tarde. Boa tarde, é a Lívia da Tótus, ou seu Valtemberg? Valtemberg? Isso. Ok, só um minutinho. Obrigada. Por nada. Seja muito bem-vindo ao Burbom Hotel. Controladoria Lucas. Boa tarde, é a Lívia da Tótus novamente, o Valtemberg já saiu da reunião? Sim, sim, só um momento, vou transferir aqui pra ele. Obrigada. Você será atendido. Já conhece o programa de férias Burbom Destination Club? Com ele você vive experiências fantásticas e as noites... Burbom Fortaleza, Valtemberg, boa tarde. Olá, Valtemberg, boa tarde, é a Lívia da empresa Tótus, tudo bem? Oi, Lívia, tudo bem. Que ótimo, eu sou do departamento Voz do Cliente, eu tô ligando pra fazer o NPS, que é uma avaliação geral, tô ligando pra todos os hotéis do Burbom. Perfeito. Você teria dois minutos no momento? Sim, pode ser. Ok, só vou confirmar o final do CNPJ, Hotel Burbom Fortaleza, é o final 1 contra 6 a 2? Correto. Ok, iniciando então, de uma escala de 0 a 10, qual a probabilidade do senhor recomendar a marca Tótus a alguém hoje no geral? 10. 10. As demais perguntas, se o senhor não tiver acesso, porque a gente sabe que é sempre a matriz que tem mais, só pular. Suporte técnico ou uma nota pra agilidade nos processos? Isso é 0 a 10? 0 a 10. 8. 8. E o atendimento em si dos agentes? 10. Atendimento do comercial executivo de vendas? Eu não tenho relacionamento. Aham. Custos e os valores dos produtos contratados nesse hotel? 8. 8. Atendimento administrativo e financeiro? 9. 9. Se o senhor participou da implantação, uma nota? Não, não participei. Mais três perguntas. O programa que vocês estão usando atende a necessidade total? Atende parcialmente? Parcial ou não atende? Total. Total. Uma nota para as atualizações? 10. E última pergunta, pra avaliar a unidade Tótus e Mnet soluções? 10 também. 10? Certo. Gostaria de deixar algum comentário, sugestão, reclamação, elogio? Não, acho que não. Acho que tá contento, né, dentro do que a gente tá trabalhando. Ótimo. Então tá bom. Vou confirmar o e-mail. Valtemberg.Silva.org.br Valtemberg.Silva.org.br Valtemberg.Silva.org.br Valtemberg.Silva.org.br Valtemberg.Silva.org.br Correto. Ok. De seis meses a um, a gente volta a se falar pra manter o relacionamento. Obrigada. Combinado. Um ótimo final de semana. Tchau, tchau. Igualmente pra você. Até logo. Obrigada. Obrigada.'}\n"
          ]
        }
      ]
    },
    {
      "cell_type": "code",
      "source": [
        "transcricao"
      ],
      "metadata": {
        "colab": {
          "base_uri": "https://localhost:8080/"
        },
        "id": "GhaAM1LBq2Wr",
        "outputId": "5bbbda6a-3405-46e9-bc6f-375afbdbf04d"
      },
      "execution_count": 44,
      "outputs": [
        {
          "output_type": "execute_result",
          "data": {
            "text/plain": [
              "{'transcription': ' Burbom Hotel Fortaleza, Satiko, boa tarde. Boa tarde, é a Lívia da Tótus, ou seu Valtemberg? Valtemberg? Isso. Ok, só um minutinho. Obrigada. Por nada. Seja muito bem-vindo ao Burbom Hotel. Controladoria Lucas. Boa tarde, é a Lívia da Tótus novamente, o Valtemberg já saiu da reunião? Sim, sim, só um momento, vou transferir aqui pra ele. Obrigada. Você será atendido. Já conhece o programa de férias Burbom Destination Club? Com ele você vive experiências fantásticas e as noites... Burbom Fortaleza, Valtemberg, boa tarde. Olá, Valtemberg, boa tarde, é a Lívia da empresa Tótus, tudo bem? Oi, Lívia, tudo bem. Que ótimo, eu sou do departamento Voz do Cliente, eu tô ligando pra fazer o NPS, que é uma avaliação geral, tô ligando pra todos os hotéis do Burbom. Perfeito. Você teria dois minutos no momento? Sim, pode ser. Ok, só vou confirmar o final do CNPJ, Hotel Burbom Fortaleza, é o final 1 contra 6 a 2? Correto. Ok, iniciando então, de uma escala de 0 a 10, qual a probabilidade do senhor recomendar a marca Tótus a alguém hoje no geral? 10. 10. As demais perguntas, se o senhor não tiver acesso, porque a gente sabe que é sempre a matriz que tem mais, só pular. Suporte técnico ou uma nota pra agilidade nos processos? Isso é 0 a 10? 0 a 10. 8. 8. E o atendimento em si dos agentes? 10. Atendimento do comercial executivo de vendas? Eu não tenho relacionamento. Aham. Custos e os valores dos produtos contratados nesse hotel? 8. 8. Atendimento administrativo e financeiro? 9. 9. Se o senhor participou da implantação, uma nota? Não, não participei. Mais três perguntas. O programa que vocês estão usando atende a necessidade total? Atende parcialmente? Parcial ou não atende? Total. Total. Uma nota para as atualizações? 10. E última pergunta, pra avaliar a unidade Tótus e Mnet soluções? 10 também. 10? Certo. Gostaria de deixar algum comentário, sugestão, reclamação, elogio? Não, acho que não. Acho que tá contento, né, dentro do que a gente tá trabalhando. Ótimo. Então tá bom. Vou confirmar o e-mail. Valtemberg.Silva.org.br Valtemberg.Silva.org.br Valtemberg.Silva.org.br Valtemberg.Silva.org.br Valtemberg.Silva.org.br Correto. Ok. De seis meses a um, a gente volta a se falar pra manter o relacionamento. Obrigada. Combinado. Um ótimo final de semana. Tchau, tchau. Igualmente pra você. Até logo. Obrigada. Obrigada.'}"
            ]
          },
          "metadata": {},
          "execution_count": 44
        }
      ]
    },
    {
      "cell_type": "markdown",
      "source": [
        "# Fechar client do Mongodb"
      ],
      "metadata": {
        "id": "UGadYbnczhSZ"
      }
    },
    {
      "cell_type": "code",
      "source": [
        "client.close()"
      ],
      "metadata": {
        "id": "z9RQRaOEemOb"
      },
      "execution_count": 31,
      "outputs": []
    },
    {
      "cell_type": "code",
      "source": [],
      "metadata": {
        "id": "oynyr0kzehrW"
      },
      "execution_count": null,
      "outputs": []
    }
  ]
}